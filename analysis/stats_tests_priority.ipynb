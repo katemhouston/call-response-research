{
 "cells": [
  {
   "cell_type": "code",
   "execution_count": 1,
   "id": "ef61c806-f3b3-46b2-b760-701ea4feba91",
   "metadata": {},
   "outputs": [],
   "source": [
    "import pandas as pd\n",
    "import numpy as np\n",
    "from datetime import datetime, timedelta\n",
    "import re\n",
    "import matplotlib.pyplot as plt\n",
    "import seaborn as sns"
   ]
  },
  {
   "cell_type": "markdown",
   "id": "d4a56418-87a1-4215-b3cb-96bb3663312b",
   "metadata": {},
   "source": [
    "# Statistical Analysis: Priority"
   ]
  },
  {
   "cell_type": "markdown",
   "id": "037b04e5-b100-4da8-96fc-433f901a5d4a",
   "metadata": {},
   "source": [
    "### Import cleaned CAD data"
   ]
  },
  {
   "cell_type": "code",
   "execution_count": 2,
   "id": "ceb7d028-463e-4e0c-b375-637dd442863f",
   "metadata": {},
   "outputs": [],
   "source": [
    "cad = pd.read_csv(\"../data/cleaned_full_class_data.csv\")"
   ]
  },
  {
   "cell_type": "markdown",
   "id": "d311acd8-a53e-4558-af57-44faf01864c6",
   "metadata": {},
   "source": [
    "#### Convert `calltime` back to a datetime object"
   ]
  },
  {
   "cell_type": "code",
   "execution_count": 3,
   "id": "5d827be4-e133-4ab0-9000-b5b07eb2a5ab",
   "metadata": {},
   "outputs": [],
   "source": [
    "cad['calltime'] = pd.to_datetime(cad['calltime'], errors='coerce')"
   ]
  },
  {
   "cell_type": "markdown",
   "id": "6d3a8e18-a788-4905-9a70-c16c3344f983",
   "metadata": {},
   "source": [
    "#### Create `results` DataFrame that will later be exported as a .csv file"
   ]
  },
  {
   "cell_type": "code",
   "execution_count": 4,
   "id": "6621a984-8ca4-443f-aca2-9926e6361eca",
   "metadata": {},
   "outputs": [],
   "source": [
    "results = pd.DataFrame(columns=['test', 'statistic', 'p_value'])"
   ]
  },
  {
   "cell_type": "markdown",
   "id": "d6758aef-3211-4f67-854c-10cfabca5844",
   "metadata": {},
   "source": [
    "## Test #1: T-Test (10x)\n",
    "Use: to determine if there is a significant difference between the means of two groups.\n",
    "\n",
    "#### Hypotheses:\n",
    "- H₀: The mean arrival time is the same for a priority, no matter if EPD or CAHOOTS has responded to it.\n",
    "- H₁: The mean arrival time is different for a priority depending on whether EPD or CAHOOTS has responded to it.\n",
    "\n",
    "**input**: the continuous response variable (`secs_to_arrv`) for each priority, from both groups, EPD and CAHOOTS\n",
    "\n",
    "**output**: T-stat and p-value"
   ]
  },
  {
   "cell_type": "markdown",
   "id": "3ec527c8-7c51-4d57-aa3f-7b6f32707e60",
   "metadata": {},
   "source": [
    "#### Split into seperate arrays based on `agency`"
   ]
  },
  {
   "cell_type": "code",
   "execution_count": 5,
   "id": "1985f9d5-7cce-4b01-add5-984c76612aad",
   "metadata": {},
   "outputs": [],
   "source": [
    "cahoots = cad[cad['agency'] == 'CAHOOTS']\n",
    "epd = cad[cad['agency'] == 'EPD']\n",
    "\n",
    "cahoots_times = cahoots['secs_to_arrv']\n",
    "epd_times = epd['secs_to_arrv']"
   ]
  },
  {
   "cell_type": "markdown",
   "id": "84e02890-9114-41af-99f4-6aa203925fa1",
   "metadata": {},
   "source": [
    "#### Split each priority *and* agency into seperate arrays"
   ]
  },
  {
   "cell_type": "code",
   "execution_count": 6,
   "id": "817ba7c3-60fe-4b4a-8531-e665a084b512",
   "metadata": {},
   "outputs": [],
   "source": [
    "cahoots_p1 = cahoots[cahoots['priority'] == '1']['secs_to_arrv']\n",
    "cahoots_p2 = cahoots[cahoots['priority'] == '2']['secs_to_arrv']\n",
    "cahoots_p3 = cahoots[cahoots['priority'] == '3']['secs_to_arrv']\n",
    "cahoots_p4 = cahoots[cahoots['priority'] == '4']['secs_to_arrv']\n",
    "cahoots_p5 = cahoots[cahoots['priority'] == '5']['secs_to_arrv']\n",
    "cahoots_p6 = cahoots[cahoots['priority'] == '6']['secs_to_arrv']\n",
    "cahoots_p7 = cahoots[cahoots['priority'] == '7']['secs_to_arrv']\n",
    "cahoots_p8 = cahoots[cahoots['priority'] == '8']['secs_to_arrv']\n",
    "cahoots_p9 = cahoots[cahoots['priority'] == '9']['secs_to_arrv']\n",
    "cahoots_pp = cahoots[cahoots['priority'] == 'P']['secs_to_arrv']\n",
    "\n",
    "epd_p1 = epd[epd['priority'] == '1']['secs_to_arrv']\n",
    "epd_p2 = epd[epd['priority'] == '2']['secs_to_arrv']\n",
    "epd_p3 = epd[epd['priority'] == '3']['secs_to_arrv']\n",
    "epd_p4 = epd[epd['priority'] == '4']['secs_to_arrv']\n",
    "epd_p5 = epd[epd['priority'] == '5']['secs_to_arrv']\n",
    "epd_p6 = epd[epd['priority'] == '6']['secs_to_arrv']\n",
    "epd_p7 = epd[epd['priority'] == '7']['secs_to_arrv']\n",
    "epd_p8 = epd[epd['priority'] == '8']['secs_to_arrv']\n",
    "epd_p9 = epd[epd['priority'] == '9']['secs_to_arrv']\n",
    "epd_pp = epd[epd['priority'] == 'P']['secs_to_arrv']"
   ]
  },
  {
   "cell_type": "markdown",
   "id": "514bcf6e-b750-4587-a0ab-fc34cc904b2c",
   "metadata": {},
   "source": [
    "#### Analysis Steps\n",
    "\n",
    "1. Create dictionary, key is the priority itself and the value is a tuple consisting of (cahoots, epd)\n",
    "2. Use `for` loop to...\n",
    "3. Normalize each pair using combines mean and standard deviation\n",
    "4. Use `scipy.stats`to get the t-stat and p-value"
   ]
  },
  {
   "cell_type": "code",
   "execution_count": 8,
   "id": "6a7b6938-499e-41f2-b5ef-b2e97169f543",
   "metadata": {},
   "outputs": [
    {
     "name": "stdout",
     "output_type": "stream",
     "text": [
      "Priority 1: t-stat = 23.790, p = 1.36e-118\n",
      "Priority 2: t-stat = 1.858, p = 0.0742\n",
      "Priority 3: t-stat = -11.510, p = 1.62e-30\n",
      "Priority 4: t-stat = -13.788, p = 2.07e-30\n",
      "Priority 5: t-stat = -60.917, p = 0\n",
      "Priority 6: t-stat = 8.428, p = 1.02e-15\n",
      "Priority 7: t-stat = 0.263, p = 0.793\n",
      "Priority 8: t-stat = 11.081, p = 9.28e-28\n",
      "Priority 9: t-stat = 2.014, p = 0.0748\n",
      "Priority P: t-stat = 0.586, p = 0.558\n"
     ]
    }
   ],
   "source": [
    "from scipy.stats import ttest_ind\n",
    "\n",
    "priority_pairs = {\n",
    "    '1': (cahoots_p1, epd_p1),\n",
    "    '2': (cahoots_p2, epd_p2),\n",
    "    '3': (cahoots_p3, epd_p3),\n",
    "    '4': (cahoots_p4, epd_p4),\n",
    "    '5': (cahoots_p5, epd_p5),\n",
    "    '6': (cahoots_p6, epd_p6),\n",
    "    '7': (cahoots_p7, epd_p7),\n",
    "    '8': (cahoots_p8, epd_p8),\n",
    "    '9': (cahoots_p9, epd_p9),\n",
    "    'P': (cahoots_pp, epd_pp),\n",
    "}\n",
    "\n",
    "for pr, (c_group, e_group) in priority_pairs.items():\n",
    "    c_group = c_group.dropna()\n",
    "    e_group = e_group.dropna()\n",
    "    \n",
    "    combined = np.concatenate([c_group, e_group])\n",
    "    mean_comb = np.mean(combined)\n",
    "    std_comb = np.std(combined, ddof=0)\n",
    "    \n",
    "    c_norm = (c_group - mean_comb) / std_comb\n",
    "    e_norm = (e_group - mean_comb) / std_comb\n",
    "    \n",
    "    t_stat, p_val = ttest_ind(c_norm, e_norm, equal_var=False)\n",
    "\n",
    "    results.loc[len(results)] = np.array([f't_test_priority_{pr}', t_stat, p_val])\n",
    "    \n",
    "    print(f\"Priority {pr}: t-stat = {t_stat:.3f}, p = {p_val:.3g}\")"
   ]
  },
  {
   "cell_type": "markdown",
   "id": "a3c379f2-5995-4068-9eb2-33cec402c2af",
   "metadata": {},
   "source": [
    "#### Take a quick look at the results so far"
   ]
  },
  {
   "cell_type": "code",
   "execution_count": 9,
   "id": "d619ac33-225a-4b8e-a8b9-51b2684bb258",
   "metadata": {},
   "outputs": [
    {
     "data": {
      "text/html": [
       "<div>\n",
       "<style scoped>\n",
       "    .dataframe tbody tr th:only-of-type {\n",
       "        vertical-align: middle;\n",
       "    }\n",
       "\n",
       "    .dataframe tbody tr th {\n",
       "        vertical-align: top;\n",
       "    }\n",
       "\n",
       "    .dataframe thead th {\n",
       "        text-align: right;\n",
       "    }\n",
       "</style>\n",
       "<table border=\"1\" class=\"dataframe\">\n",
       "  <thead>\n",
       "    <tr style=\"text-align: right;\">\n",
       "      <th></th>\n",
       "      <th>test</th>\n",
       "      <th>statistic</th>\n",
       "      <th>p_value</th>\n",
       "    </tr>\n",
       "  </thead>\n",
       "  <tbody>\n",
       "    <tr>\n",
       "      <th>0</th>\n",
       "      <td>t_test_priority_1</td>\n",
       "      <td>23.790154773261467</td>\n",
       "      <td>1.3561496607144252e-118</td>\n",
       "    </tr>\n",
       "    <tr>\n",
       "      <th>1</th>\n",
       "      <td>t_test_priority_2</td>\n",
       "      <td>1.8584567707792523</td>\n",
       "      <td>0.0742427222325805</td>\n",
       "    </tr>\n",
       "    <tr>\n",
       "      <th>2</th>\n",
       "      <td>t_test_priority_3</td>\n",
       "      <td>-11.509557948635326</td>\n",
       "      <td>1.6176541074831057e-30</td>\n",
       "    </tr>\n",
       "    <tr>\n",
       "      <th>3</th>\n",
       "      <td>t_test_priority_4</td>\n",
       "      <td>-13.787720283502997</td>\n",
       "      <td>2.06531501369194e-30</td>\n",
       "    </tr>\n",
       "    <tr>\n",
       "      <th>4</th>\n",
       "      <td>t_test_priority_5</td>\n",
       "      <td>-60.916936226627385</td>\n",
       "      <td>0.0</td>\n",
       "    </tr>\n",
       "    <tr>\n",
       "      <th>5</th>\n",
       "      <td>t_test_priority_6</td>\n",
       "      <td>8.427591028814543</td>\n",
       "      <td>1.0231224689433483e-15</td>\n",
       "    </tr>\n",
       "    <tr>\n",
       "      <th>6</th>\n",
       "      <td>t_test_priority_7</td>\n",
       "      <td>0.2626908499800568</td>\n",
       "      <td>0.7928368673809696</td>\n",
       "    </tr>\n",
       "    <tr>\n",
       "      <th>7</th>\n",
       "      <td>t_test_priority_8</td>\n",
       "      <td>11.081161385080389</td>\n",
       "      <td>9.277154753561876e-28</td>\n",
       "    </tr>\n",
       "    <tr>\n",
       "      <th>8</th>\n",
       "      <td>t_test_priority_9</td>\n",
       "      <td>2.0142761851563797</td>\n",
       "      <td>0.07475765860669364</td>\n",
       "    </tr>\n",
       "    <tr>\n",
       "      <th>9</th>\n",
       "      <td>t_test_priority_P</td>\n",
       "      <td>0.5856342080713479</td>\n",
       "      <td>0.5582135314924455</td>\n",
       "    </tr>\n",
       "  </tbody>\n",
       "</table>\n",
       "</div>"
      ],
      "text/plain": [
       "                test            statistic                  p_value\n",
       "0  t_test_priority_1   23.790154773261467  1.3561496607144252e-118\n",
       "1  t_test_priority_2   1.8584567707792523       0.0742427222325805\n",
       "2  t_test_priority_3  -11.509557948635326   1.6176541074831057e-30\n",
       "3  t_test_priority_4  -13.787720283502997     2.06531501369194e-30\n",
       "4  t_test_priority_5  -60.916936226627385                      0.0\n",
       "5  t_test_priority_6    8.427591028814543   1.0231224689433483e-15\n",
       "6  t_test_priority_7   0.2626908499800568       0.7928368673809696\n",
       "7  t_test_priority_8   11.081161385080389    9.277154753561876e-28\n",
       "8  t_test_priority_9   2.0142761851563797      0.07475765860669364\n",
       "9  t_test_priority_P   0.5856342080713479       0.5582135314924455"
      ]
     },
     "execution_count": 9,
     "metadata": {},
     "output_type": "execute_result"
    }
   ],
   "source": [
    "results"
   ]
  },
  {
   "cell_type": "markdown",
   "id": "41203700-cb7f-4ac0-b334-3e5d4c667f81",
   "metadata": {},
   "source": [
    "### For priorities where difference is *statistically significant*, look at the means of the two groups"
   ]
  },
  {
   "cell_type": "code",
   "execution_count": 10,
   "id": "9395ca41-d14c-443f-bffe-0c9dc4f22340",
   "metadata": {},
   "outputs": [
    {
     "name": "stdout",
     "output_type": "stream",
     "text": [
      "cahoots priority 2 mean: 1895.148148148148\n",
      "epd priority 2 mean: 1080.2974759615386\n"
     ]
    }
   ],
   "source": [
    "print(f'cahoots priority 2 mean: {np.mean(cahoots_p2)}')\n",
    "print(f'epd priority 2 mean: {np.mean(epd_p2)}')"
   ]
  },
  {
   "cell_type": "code",
   "execution_count": 11,
   "id": "c2efd47a-0dc8-4506-b0ba-fdb644f87125",
   "metadata": {},
   "outputs": [
    {
     "name": "stdout",
     "output_type": "stream",
     "text": [
      "cahoots priority 7 mean: 8139.888491573108\n",
      "epd priority 7 mean: 8027.045739910314\n"
     ]
    }
   ],
   "source": [
    "print(f'cahoots priority 7 mean: {np.mean(cahoots_p7)}')\n",
    "print(f'epd priority 7 mean: {np.mean(epd_p7)}')"
   ]
  },
  {
   "cell_type": "code",
   "execution_count": 12,
   "id": "4fcd7d53-4b8f-4b5e-b5d2-c75abe3ae0b2",
   "metadata": {},
   "outputs": [
    {
     "name": "stdout",
     "output_type": "stream",
     "text": [
      "cahoots priority 9 mean: 26114.0\n",
      "epd priority 9 mean: 5446.336475707034\n",
      "len of CAHOOTS: 10, len of EPD: 1379\n"
     ]
    }
   ],
   "source": [
    "print(f'cahoots priority 9 mean: {np.mean(cahoots_p9)}')\n",
    "print(f'epd priority 9 mean: {np.mean(epd_p9)}')\n",
    "\n",
    "print(f'len of CAHOOTS: {len(cahoots_p9)}, len of EPD: {len(epd_p9)}')"
   ]
  },
  {
   "cell_type": "code",
   "execution_count": 13,
   "id": "fdfefcfe-f653-4e67-81e7-aefaf5cdf7cb",
   "metadata": {},
   "outputs": [
    {
     "name": "stdout",
     "output_type": "stream",
     "text": [
      "cahoots priority P mean: 867.2190847127556\n",
      "epd priority P mean: 838.4364406779661\n"
     ]
    }
   ],
   "source": [
    "print(f'cahoots priority P mean: {np.mean(cahoots_pp)}')\n",
    "print(f'epd priority P mean: {np.mean(epd_pp)}')"
   ]
  },
  {
   "cell_type": "markdown",
   "id": "9a3442bb-6ec1-49b9-9b07-c6134d798143",
   "metadata": {},
   "source": [
    "### RESULTS AND INTERPRETATION:\n",
    "\n",
    "| Priority | t-stat | p-value   | Interpretation                                  |\n",
    "| -------- | ------ | --------- | ----------------------------------------------- |\n",
    "| 1        | 23.790  | 1.36e-118 | Huge difference — EPD is **much faster** |\n",
    "| 2        | 1.858   | 0.0742  | Marginal — not statistically significant |\n",
    "| 3        | -11.510 | 1.62e-30  | CAHOOTS is **faster**                           |\n",
    "| 4        | -13.788 | 2.07e-30  | CAHOOTS is **faster**                           |\n",
    "| 5        | -60.917 | 0   | Huge difference — CAHOOTS is **much faster** |\n",
    "| 6        | 8.428  | 1.02e-15 | EPD is **faster**                               |\n",
    "| 7        | 0.263 | 0.793  | No difference                            |\n",
    "| 8        | 11.081  | 9.28e-28  | EPD is **faster**                               |\n",
    "| 9        | 2.014   | 0.0748   | No difference                            |\n",
    "| P        | 0.586  | 0.558  | No difference                            |\n"
   ]
  },
  {
   "cell_type": "markdown",
   "id": "e38c5c72-06c2-4505-91d2-2949e6c3cb81",
   "metadata": {},
   "source": [
    "### General consensus: \n",
    "- CAHOOTS faster for mid-priority calls\n",
    "- EPD faster for (most) high priority calls\n",
    "- **Not uniform across all priority levels**"
   ]
  },
  {
   "cell_type": "markdown",
   "id": "2ad4b042-b8af-4597-a1b6-6a0792ca7e96",
   "metadata": {},
   "source": [
    "### Save results to .csv file"
   ]
  },
  {
   "cell_type": "code",
   "execution_count": 14,
   "id": "cca97bb8-63de-41d7-a5cc-aabfa184b379",
   "metadata": {},
   "outputs": [],
   "source": [
    "results.to_csv('../results/priority_results.csv')"
   ]
  },
  {
   "cell_type": "code",
   "execution_count": null,
   "id": "391261d6-1160-4f97-9e94-41baf164dbf0",
   "metadata": {},
   "outputs": [],
   "source": []
  }
 ],
 "metadata": {
  "kernelspec": {
   "display_name": "Python [conda env:base] *",
   "language": "python",
   "name": "conda-base-py"
  },
  "language_info": {
   "codemirror_mode": {
    "name": "ipython",
    "version": 3
   },
   "file_extension": ".py",
   "mimetype": "text/x-python",
   "name": "python",
   "nbconvert_exporter": "python",
   "pygments_lexer": "ipython3",
   "version": "3.12.7"
  }
 },
 "nbformat": 4,
 "nbformat_minor": 5
}
