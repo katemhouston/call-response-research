{
 "cells": [
  {
   "cell_type": "code",
   "execution_count": 1,
   "id": "ef61c806-f3b3-46b2-b760-701ea4feba91",
   "metadata": {},
   "outputs": [],
   "source": [
    "import pandas as pd\n",
    "import numpy as np\n",
    "from datetime import datetime, timedelta\n",
    "import re\n",
    "import matplotlib.pyplot as plt\n",
    "import seaborn as sns"
   ]
  },
  {
   "cell_type": "markdown",
   "id": "d4a56418-87a1-4215-b3cb-96bb3663312b",
   "metadata": {},
   "source": [
    "# Statistical Analysis: Priority"
   ]
  },
  {
   "cell_type": "markdown",
   "id": "037b04e5-b100-4da8-96fc-433f901a5d4a",
   "metadata": {},
   "source": [
    "### Import cleaned CAD data"
   ]
  },
  {
   "cell_type": "code",
   "execution_count": 2,
   "id": "ceb7d028-463e-4e0c-b375-637dd442863f",
   "metadata": {},
   "outputs": [],
   "source": [
    "cad = pd.read_csv(\"../data/cleaned_full_class_data.csv\")"
   ]
  },
  {
   "cell_type": "markdown",
   "id": "d311acd8-a53e-4558-af57-44faf01864c6",
   "metadata": {},
   "source": [
    "#### Convert `calltime` back to a datetime object"
   ]
  },
  {
   "cell_type": "code",
   "execution_count": 3,
   "id": "5d827be4-e133-4ab0-9000-b5b07eb2a5ab",
   "metadata": {},
   "outputs": [],
   "source": [
    "cad['calltime'] = pd.to_datetime(cad['calltime'], errors='coerce')"
   ]
  },
  {
   "cell_type": "markdown",
   "id": "6d3a8e18-a788-4905-9a70-c16c3344f983",
   "metadata": {},
   "source": [
    "#### Create `results` DataFrame that will later be exported as a .csv file"
   ]
  },
  {
   "cell_type": "code",
   "execution_count": 4,
   "id": "6621a984-8ca4-443f-aca2-9926e6361eca",
   "metadata": {},
   "outputs": [],
   "source": [
    "results = pd.DataFrame(columns=['test', 'statistic', 'p_value'])"
   ]
  },
  {
   "cell_type": "markdown",
   "id": "5fee1f40-0a6b-44cf-9fcc-75711888a0bd",
   "metadata": {},
   "source": [
    "## Test #1: ANOVA\n",
    "\n",
    "Use: to determine if there are significant differences between the means of three or more groups or sample\n",
    "\n",
    "Hypotheses:\n",
    "- null: all priorities' means are equal.\n",
    "- alternative: at least one priority's mean is different.\n",
    "\n",
    "**input**: the continuous response variable (`secs_to_arrv`) from data categorized into groups based on the levels of an independent variable (`priority`)\n",
    "\n",
    "**output**: F-stat and p-value"
   ]
  },
  {
   "cell_type": "markdown",
   "id": "c91bdb49-6228-4f6b-8a6c-6927d258612c",
   "metadata": {},
   "source": [
    "#### Split `cad` into seperate DataFrames by priority"
   ]
  },
  {
   "cell_type": "code",
   "execution_count": 5,
   "id": "6dac8afe-5d59-4216-8cdb-730be7f672a8",
   "metadata": {},
   "outputs": [],
   "source": [
    "p1 = cad[cad['priority'] == '1']['secs_to_arrv']\n",
    "p2 = cad[cad['priority'] == '2']['secs_to_arrv']\n",
    "p3 = cad[cad['priority'] == '3']['secs_to_arrv']\n",
    "p4 = cad[cad['priority'] == '4']['secs_to_arrv']\n",
    "p5 = cad[cad['priority'] == '5']['secs_to_arrv']\n",
    "p6 = cad[cad['priority'] == '6']['secs_to_arrv']\n",
    "p7 = cad[cad['priority'] == '7']['secs_to_arrv']\n",
    "p8 = cad[cad['priority'] == '8']['secs_to_arrv']\n",
    "p9 = cad[cad['priority'] == '9']['secs_to_arrv']\n",
    "pp = cad[cad['priority'] == 'P']['secs_to_arrv']"
   ]
  },
  {
   "cell_type": "code",
   "execution_count": 6,
   "id": "63109a86-2261-4f1a-a686-fae2574f1a60",
   "metadata": {},
   "outputs": [
    {
     "name": "stdout",
     "output_type": "stream",
     "text": [
      "f-stat = 10390.481645113088\n",
      "p = 0.0\n"
     ]
    }
   ],
   "source": [
    "from scipy.stats import f_oneway\n",
    "\n",
    "stat, pvalue = f_oneway(p1, p2, p3, p4, p5, p6, p7, p8, p9, pp)\n",
    "\n",
    "results.loc[len(results)] = np.array(['ANOVA', stat, pvalue])\n",
    "\n",
    "print(f'f-stat = {stat}')\n",
    "print(f'p = {pvalue}')"
   ]
  },
  {
   "cell_type": "markdown",
   "id": "a82ae0fa-bec0-4549-9149-1a84a227cb9f",
   "metadata": {},
   "source": [
    "## Test #2: T-Test\n",
    "Use: to determine if there is a significant difference between the means of two groups.\n",
    "\n",
    "#### Hypotheses:\n",
    "- H₀: The mean arrival time is the same for EPD and CAHOOTS.\n",
    "- H₁: The mean arrival time is different for EPD and CAHOOTS.\n",
    "\n",
    "**input**: the continuous response variable (`secs_to_arrv`) from two groups, EPD and CAHOOTS\n",
    "\n",
    "**output**: T-stat and p-value"
   ]
  },
  {
   "cell_type": "markdown",
   "id": "3ec527c8-7c51-4d57-aa3f-7b6f32707e60",
   "metadata": {},
   "source": [
    "#### Split into seperate arrays based on `agency`"
   ]
  },
  {
   "cell_type": "code",
   "execution_count": 7,
   "id": "1985f9d5-7cce-4b01-add5-984c76612aad",
   "metadata": {},
   "outputs": [],
   "source": [
    "cahoots = cad[cad['agency'] == 'CAHOOTS']\n",
    "epd = cad[cad['agency'] == 'EPD']\n",
    "\n",
    "cahoots_times = cahoots['secs_to_arrv']\n",
    "epd_times = epd['secs_to_arrv']"
   ]
  },
  {
   "cell_type": "markdown",
   "id": "327f3761-908c-4cef-976e-aa52368dc4a1",
   "metadata": {},
   "source": [
    "#### Normalize both groups and run t-test using `scipy.stats`"
   ]
  },
  {
   "cell_type": "code",
   "execution_count": 8,
   "id": "434ebfcb-ac12-49e6-aacf-36b0de9d945d",
   "metadata": {},
   "outputs": [
    {
     "name": "stdout",
     "output_type": "stream",
     "text": [
      "t-stat = 81.98689179525557\n",
      "p = 0.0\n"
     ]
    }
   ],
   "source": [
    "from scipy.stats import ttest_ind\n",
    "\n",
    "all_times = np.concatenate([cahoots_times, epd_times])\n",
    "mean_all = np.nanmean(all_times)\n",
    "std_all = np.nanstd(all_times)\n",
    "\n",
    "cahoots_norm = (cahoots_times - mean_all) / std_all\n",
    "epd_norm = (epd_times - mean_all) / std_all\n",
    "\n",
    "stat, pvalue = ttest_ind(cahoots_norm, epd_norm, equal_var=False)\n",
    "\n",
    "results.loc[len(results)] = np.array(['t_test_agency', stat, pvalue])\n",
    "\n",
    "print(f't-stat = {stat}')\n",
    "print(f'p = {pvalue}')"
   ]
  },
  {
   "cell_type": "markdown",
   "id": "9368142d-5453-446a-8f06-9ad6611b2b12",
   "metadata": {},
   "source": [
    "#### Just to take a quick look at the means"
   ]
  },
  {
   "cell_type": "code",
   "execution_count": 9,
   "id": "0c9039a5-7714-42c9-ac99-88b48c51932b",
   "metadata": {},
   "outputs": [
    {
     "name": "stdout",
     "output_type": "stream",
     "text": [
      "cahoots avg time: 5978.226631499021\n",
      "epd avg time: 3726.1499152343185\n"
     ]
    }
   ],
   "source": [
    "print(f'cahoots avg time: {np.mean(cahoots_times)}')\n",
    "print(f'epd avg time: {np.mean(epd_times)}')"
   ]
  },
  {
   "cell_type": "markdown",
   "id": "1233a3f8-fefd-45d8-aa19-029e6255fade",
   "metadata": {},
   "source": [
    "CAHOOTS, on *average* slower, but looking at the difference between each priority might give a better explanation."
   ]
  },
  {
   "cell_type": "markdown",
   "id": "d6758aef-3211-4f67-854c-10cfabca5844",
   "metadata": {},
   "source": [
    "## Test #3: T-Test (10x)\n",
    "Use: to determine if there is a significant difference between the means of two groups.\n",
    "\n",
    "#### Hypotheses:\n",
    "- H₀: The mean arrival time is the same for a priority, no matter if EPD or CAHOOTS has responded to it.\n",
    "- H₁: The mean arrival time is different for a priority depending on whether EPD or CAHOOTS has responded to it.\n",
    "\n",
    "**input**: the continuous response variable (`secs_to_arrv`) for each priority, from both groups, EPD and CAHOOTS\n",
    "\n",
    "**output**: T-stat and p-value"
   ]
  },
  {
   "cell_type": "markdown",
   "id": "84e02890-9114-41af-99f4-6aa203925fa1",
   "metadata": {},
   "source": [
    "#### Split each priority *and* agency into seperate arrays"
   ]
  },
  {
   "cell_type": "code",
   "execution_count": 10,
   "id": "817ba7c3-60fe-4b4a-8531-e665a084b512",
   "metadata": {},
   "outputs": [],
   "source": [
    "cahoots_p1 = cahoots[cahoots['priority'] == '1']['secs_to_arrv']\n",
    "cahoots_p2 = cahoots[cahoots['priority'] == '2']['secs_to_arrv']\n",
    "cahoots_p3 = cahoots[cahoots['priority'] == '3']['secs_to_arrv']\n",
    "cahoots_p4 = cahoots[cahoots['priority'] == '4']['secs_to_arrv']\n",
    "cahoots_p5 = cahoots[cahoots['priority'] == '5']['secs_to_arrv']\n",
    "cahoots_p6 = cahoots[cahoots['priority'] == '6']['secs_to_arrv']\n",
    "cahoots_p7 = cahoots[cahoots['priority'] == '7']['secs_to_arrv']\n",
    "cahoots_p8 = cahoots[cahoots['priority'] == '8']['secs_to_arrv']\n",
    "cahoots_p9 = cahoots[cahoots['priority'] == '9']['secs_to_arrv']\n",
    "cahoots_pp = cahoots[cahoots['priority'] == 'P']['secs_to_arrv']\n",
    "\n",
    "epd_p1 = epd[epd['priority'] == '1']['secs_to_arrv']\n",
    "epd_p2 = epd[epd['priority'] == '2']['secs_to_arrv']\n",
    "epd_p3 = epd[epd['priority'] == '3']['secs_to_arrv']\n",
    "epd_p4 = epd[epd['priority'] == '4']['secs_to_arrv']\n",
    "epd_p5 = epd[epd['priority'] == '5']['secs_to_arrv']\n",
    "epd_p6 = epd[epd['priority'] == '6']['secs_to_arrv']\n",
    "epd_p7 = epd[epd['priority'] == '7']['secs_to_arrv']\n",
    "epd_p8 = epd[epd['priority'] == '8']['secs_to_arrv']\n",
    "epd_p9 = epd[epd['priority'] == '9']['secs_to_arrv']\n",
    "epd_pp = epd[epd['priority'] == 'P']['secs_to_arrv']"
   ]
  },
  {
   "cell_type": "markdown",
   "id": "514bcf6e-b750-4587-a0ab-fc34cc904b2c",
   "metadata": {},
   "source": [
    "#### Analysis Steps\n",
    "\n",
    "1. Create dictionary, key is the priority itself and the value is a tuple consisting of (cahoots, epd)\n",
    "2. Use `for` loop to...\n",
    "3. Normalize each pair using combines mean and standard deviation\n",
    "4. Use `scipy.stats`to get the t-stat and p-value"
   ]
  },
  {
   "cell_type": "code",
   "execution_count": 11,
   "id": "6a7b6938-499e-41f2-b5ef-b2e97169f543",
   "metadata": {},
   "outputs": [
    {
     "name": "stdout",
     "output_type": "stream",
     "text": [
      "Priority 1: t-stat = 24.596, p = 6.33e-126\n",
      "Priority 2: t-stat = 1.945, p = 0.0625\n",
      "Priority 3: t-stat = -13.487, p = 3.35e-41\n",
      "Priority 4: t-stat = -14.335, p = 5.31e-32\n",
      "Priority 5: t-stat = -67.659, p = 0\n",
      "Priority 6: t-stat = 8.117, p = 8.88e-15\n",
      "Priority 7: t-stat = 0.643, p = 0.52\n",
      "Priority 8: t-stat = 14.229, p = 1.54e-43\n",
      "Priority 9: t-stat = 1.978, p = 0.0792\n",
      "Priority P: t-stat = 0.682, p = 0.495\n"
     ]
    }
   ],
   "source": [
    "priority_pairs = {\n",
    "    '1': (cahoots_p1, epd_p1),\n",
    "    '2': (cahoots_p2, epd_p2),\n",
    "    '3': (cahoots_p3, epd_p3),\n",
    "    '4': (cahoots_p4, epd_p4),\n",
    "    '5': (cahoots_p5, epd_p5),\n",
    "    '6': (cahoots_p6, epd_p6),\n",
    "    '7': (cahoots_p7, epd_p7),\n",
    "    '8': (cahoots_p8, epd_p8),\n",
    "    '9': (cahoots_p9, epd_p9),\n",
    "    'P': (cahoots_pp, epd_pp),\n",
    "}\n",
    "\n",
    "for pr, (c_group, e_group) in priority_pairs.items():\n",
    "    c_group = c_group.dropna()\n",
    "    e_group = e_group.dropna()\n",
    "    \n",
    "    combined = np.concatenate([c_group, e_group])\n",
    "    mean_comb = np.mean(combined)\n",
    "    std_comb = np.std(combined, ddof=0)\n",
    "    \n",
    "    c_norm = (c_group - mean_comb) / std_comb\n",
    "    e_norm = (e_group - mean_comb) / std_comb\n",
    "    \n",
    "    t_stat, p_val = ttest_ind(c_norm, e_norm, equal_var=False)\n",
    "\n",
    "    results.loc[len(results)] = np.array([f't_test_priority_{pr}', t_stat, p_val])\n",
    "    \n",
    "    print(f\"Priority {pr}: t-stat = {t_stat:.3f}, p = {p_val:.3g}\")"
   ]
  },
  {
   "cell_type": "markdown",
   "id": "a3c379f2-5995-4068-9eb2-33cec402c2af",
   "metadata": {},
   "source": [
    "#### Take a quick look at the results so far"
   ]
  },
  {
   "cell_type": "code",
   "execution_count": 12,
   "id": "d619ac33-225a-4b8e-a8b9-51b2684bb258",
   "metadata": {},
   "outputs": [
    {
     "data": {
      "text/html": [
       "<div>\n",
       "<style scoped>\n",
       "    .dataframe tbody tr th:only-of-type {\n",
       "        vertical-align: middle;\n",
       "    }\n",
       "\n",
       "    .dataframe tbody tr th {\n",
       "        vertical-align: top;\n",
       "    }\n",
       "\n",
       "    .dataframe thead th {\n",
       "        text-align: right;\n",
       "    }\n",
       "</style>\n",
       "<table border=\"1\" class=\"dataframe\">\n",
       "  <thead>\n",
       "    <tr style=\"text-align: right;\">\n",
       "      <th></th>\n",
       "      <th>test</th>\n",
       "      <th>statistic</th>\n",
       "      <th>p_value</th>\n",
       "    </tr>\n",
       "  </thead>\n",
       "  <tbody>\n",
       "    <tr>\n",
       "      <th>0</th>\n",
       "      <td>ANOVA</td>\n",
       "      <td>10390.481645113088</td>\n",
       "      <td>0.0</td>\n",
       "    </tr>\n",
       "    <tr>\n",
       "      <th>1</th>\n",
       "      <td>t_test_agency</td>\n",
       "      <td>81.98689179525557</td>\n",
       "      <td>0.0</td>\n",
       "    </tr>\n",
       "    <tr>\n",
       "      <th>2</th>\n",
       "      <td>t_test_priority_1</td>\n",
       "      <td>24.596237858049605</td>\n",
       "      <td>6.334146341463216e-126</td>\n",
       "    </tr>\n",
       "    <tr>\n",
       "      <th>3</th>\n",
       "      <td>t_test_priority_2</td>\n",
       "      <td>1.9450806917662704</td>\n",
       "      <td>0.062480338521738656</td>\n",
       "    </tr>\n",
       "    <tr>\n",
       "      <th>4</th>\n",
       "      <td>t_test_priority_3</td>\n",
       "      <td>-13.487246163129083</td>\n",
       "      <td>3.347214007213987e-41</td>\n",
       "    </tr>\n",
       "    <tr>\n",
       "      <th>5</th>\n",
       "      <td>t_test_priority_4</td>\n",
       "      <td>-14.334843280695724</td>\n",
       "      <td>5.314287148346844e-32</td>\n",
       "    </tr>\n",
       "    <tr>\n",
       "      <th>6</th>\n",
       "      <td>t_test_priority_5</td>\n",
       "      <td>-67.65893370433757</td>\n",
       "      <td>0.0</td>\n",
       "    </tr>\n",
       "    <tr>\n",
       "      <th>7</th>\n",
       "      <td>t_test_priority_6</td>\n",
       "      <td>8.117497376606899</td>\n",
       "      <td>8.883262582404328e-15</td>\n",
       "    </tr>\n",
       "    <tr>\n",
       "      <th>8</th>\n",
       "      <td>t_test_priority_7</td>\n",
       "      <td>0.6433414758608552</td>\n",
       "      <td>0.5201247482493778</td>\n",
       "    </tr>\n",
       "    <tr>\n",
       "      <th>9</th>\n",
       "      <td>t_test_priority_8</td>\n",
       "      <td>14.228776619270278</td>\n",
       "      <td>1.5416443941575946e-43</td>\n",
       "    </tr>\n",
       "    <tr>\n",
       "      <th>10</th>\n",
       "      <td>t_test_priority_9</td>\n",
       "      <td>1.9783677149314627</td>\n",
       "      <td>0.0792198699074426</td>\n",
       "    </tr>\n",
       "    <tr>\n",
       "      <th>11</th>\n",
       "      <td>t_test_priority_P</td>\n",
       "      <td>0.6821367011651512</td>\n",
       "      <td>0.4952727309857383</td>\n",
       "    </tr>\n",
       "  </tbody>\n",
       "</table>\n",
       "</div>"
      ],
      "text/plain": [
       "                 test            statistic                 p_value\n",
       "0               ANOVA   10390.481645113088                     0.0\n",
       "1       t_test_agency    81.98689179525557                     0.0\n",
       "2   t_test_priority_1   24.596237858049605  6.334146341463216e-126\n",
       "3   t_test_priority_2   1.9450806917662704    0.062480338521738656\n",
       "4   t_test_priority_3  -13.487246163129083   3.347214007213987e-41\n",
       "5   t_test_priority_4  -14.334843280695724   5.314287148346844e-32\n",
       "6   t_test_priority_5   -67.65893370433757                     0.0\n",
       "7   t_test_priority_6    8.117497376606899   8.883262582404328e-15\n",
       "8   t_test_priority_7   0.6433414758608552      0.5201247482493778\n",
       "9   t_test_priority_8   14.228776619270278  1.5416443941575946e-43\n",
       "10  t_test_priority_9   1.9783677149314627      0.0792198699074426\n",
       "11  t_test_priority_P   0.6821367011651512      0.4952727309857383"
      ]
     },
     "execution_count": 12,
     "metadata": {},
     "output_type": "execute_result"
    }
   ],
   "source": [
    "results"
   ]
  },
  {
   "cell_type": "markdown",
   "id": "41203700-cb7f-4ac0-b334-3e5d4c667f81",
   "metadata": {},
   "source": [
    "### For priorities where difference is *statistically significant*, look at the means of the two groups"
   ]
  },
  {
   "cell_type": "code",
   "execution_count": 13,
   "id": "9395ca41-d14c-443f-bffe-0c9dc4f22340",
   "metadata": {},
   "outputs": [
    {
     "name": "stdout",
     "output_type": "stream",
     "text": [
      "cahoots priority 1 mean: 1342.6136242682278\n",
      "epd priority 1 mean: 772.6996636698791\n"
     ]
    }
   ],
   "source": [
    "print(f'cahoots priority 1 mean: {np.mean(cahoots_p1)}')\n",
    "print(f'epd priority 1 mean: {np.mean(epd_p1)}')"
   ]
  },
  {
   "cell_type": "code",
   "execution_count": 14,
   "id": "94e329bc-c282-4988-8739-9358debb708d",
   "metadata": {},
   "outputs": [
    {
     "name": "stdout",
     "output_type": "stream",
     "text": [
      "cahoots priority 3 mean: 1963.7854251012145\n",
      "epd priority 3 mean: 2320.64217950422\n"
     ]
    }
   ],
   "source": [
    "print(f'cahoots priority 3 mean: {np.mean(cahoots_p3)}')\n",
    "print(f'epd priority 3 mean: {np.mean(epd_p3)}')"
   ]
  },
  {
   "cell_type": "code",
   "execution_count": 15,
   "id": "602520f8-2836-4fea-96e0-f28391bcf48b",
   "metadata": {},
   "outputs": [
    {
     "name": "stdout",
     "output_type": "stream",
     "text": [
      "cahoots priority 4 mean: 5430.15\n",
      "epd priority 4 mean: 11597.646849819173\n"
     ]
    }
   ],
   "source": [
    "print(f'cahoots priority 4 mean: {np.mean(cahoots_p4)}')\n",
    "print(f'epd priority 4 mean: {np.mean(epd_p4)}')"
   ]
  },
  {
   "cell_type": "code",
   "execution_count": 16,
   "id": "71f8d918-db94-440d-8558-4d4004d035a3",
   "metadata": {},
   "outputs": [
    {
     "name": "stdout",
     "output_type": "stream",
     "text": [
      "cahoots priority 5 mean: 2313.0375392023316\n",
      "epd priority 5 mean: 7385.411898213666\n"
     ]
    }
   ],
   "source": [
    "print(f'cahoots priority 5 mean: {np.mean(cahoots_p5)}')\n",
    "print(f'epd priority 5 mean: {np.mean(epd_p5)}')"
   ]
  },
  {
   "cell_type": "code",
   "execution_count": 17,
   "id": "c2efd47a-0dc8-4506-b0ba-fdb644f87125",
   "metadata": {},
   "outputs": [
    {
     "name": "stdout",
     "output_type": "stream",
     "text": [
      "cahoots priority 6 mean: 4733.07250755287\n",
      "epd priority 6 mean: 1716.3178589548452\n"
     ]
    }
   ],
   "source": [
    "print(f'cahoots priority 6 mean: {np.mean(cahoots_p6)}')\n",
    "print(f'epd priority 6 mean: {np.mean(epd_p6)}')"
   ]
  },
  {
   "cell_type": "code",
   "execution_count": 18,
   "id": "9fe8e3a3-c165-4264-b576-9925c0c801c5",
   "metadata": {},
   "outputs": [
    {
     "name": "stdout",
     "output_type": "stream",
     "text": [
      "cahoots priority 8 mean: 24488.431353456668\n",
      "epd priority 8 mean: 9742.138806851743\n"
     ]
    }
   ],
   "source": [
    "print(f'cahoots priority 8 mean: {np.mean(cahoots_p8)}')\n",
    "print(f'epd priority 8 mean: {np.mean(epd_p8)}')"
   ]
  },
  {
   "cell_type": "markdown",
   "id": "9a3442bb-6ec1-49b9-9b07-c6134d798143",
   "metadata": {},
   "source": [
    "### RESULTS AND INTERPRETATION:\n",
    "\n",
    "| Priority | t-stat | p-value   | Interpretation                                  |\n",
    "| -------- | ------ | --------- | ----------------------------------------------- |\n",
    "| 1        | 24.60  | 6.33e-126 | Huge difference — EPD is **much faster** |\n",
    "| 2        | 1.95   | 0.0625  | Marginal — not statistically significant |\n",
    "| 3        | -13.49 | 3.35e-41  | CAHOOTS is **faster**                           |\n",
    "| 4        | -14.34 | 5.31e-32  | CAHOOTS is **faster**                           |\n",
    "| 5        | -67.66 | \\~0       | Huge difference — CAHOOTS is **much faster** |\n",
    "| 6        | 8.12   | 8.88e-15  | EPD is **faster**                               |\n",
    "| 7        | 0.64   | 0.52    | No difference                            |\n",
    "| 8        | 14.23  | 1.54e-43  | EPD is **faster**                               |\n",
    "| 9        | 1.98   | 0.079   | Marginal — not statistically significant      |\n",
    "| P        | 0.68   | 0.495   | No difference                            |\n"
   ]
  },
  {
   "cell_type": "markdown",
   "id": "e38c5c72-06c2-4505-91d2-2949e6c3cb81",
   "metadata": {},
   "source": [
    "### General consensus: \n",
    "- CAHOOTS faster for (most) higher priority calls\n",
    "- EPD faster for (most) lower priority calls\n",
    "- **Not uniform across all priority levels**"
   ]
  },
  {
   "cell_type": "markdown",
   "id": "2ad4b042-b8af-4597-a1b6-6a0792ca7e96",
   "metadata": {},
   "source": [
    "### Save results to .csv file"
   ]
  },
  {
   "cell_type": "code",
   "execution_count": 19,
   "id": "cca97bb8-63de-41d7-a5cc-aabfa184b379",
   "metadata": {},
   "outputs": [],
   "source": [
    "results.to_csv('../results/priority_results.csv')"
   ]
  }
 ],
 "metadata": {
  "kernelspec": {
   "display_name": "Python [conda env:base] *",
   "language": "python",
   "name": "conda-base-py"
  },
  "language_info": {
   "codemirror_mode": {
    "name": "ipython",
    "version": 3
   },
   "file_extension": ".py",
   "mimetype": "text/x-python",
   "name": "python",
   "nbconvert_exporter": "python",
   "pygments_lexer": "ipython3",
   "version": "3.12.7"
  }
 },
 "nbformat": 4,
 "nbformat_minor": 5
}
