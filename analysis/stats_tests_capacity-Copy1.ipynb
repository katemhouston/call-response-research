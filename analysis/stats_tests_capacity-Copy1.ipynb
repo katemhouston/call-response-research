{
 "cells": [
  {
   "cell_type": "code",
   "execution_count": 2,
   "id": "3e0eb458-5c07-45f2-a1ab-b21e02d0e3a4",
   "metadata": {},
   "outputs": [],
   "source": [
    "import pandas as pd\n",
    "import numpy as np\n",
    "from datetime import datetime, timedelta\n",
    "import re\n",
    "import matplotlib.pyplot as plt\n",
    "import seaborn as sns"
   ]
  },
  {
   "cell_type": "markdown",
   "id": "6c4442bd-bda4-4163-bb86-afd621407974",
   "metadata": {},
   "source": [
    "# Statistical Analysis: Capacity"
   ]
  },
  {
   "cell_type": "markdown",
   "id": "96f73fb5-c82a-4985-b9f7-ae408c13870e",
   "metadata": {},
   "source": [
    "### Import CAHOOTS and EPD-based capacity logs"
   ]
  },
  {
   "cell_type": "code",
   "execution_count": 10,
   "id": "9bae6338-5aec-4346-985e-1ab890512d25",
   "metadata": {},
   "outputs": [],
   "source": [
    "cahoots = pd.read_csv(\"../data/busy_log.csv\")\n",
    "epd = pd.read_csv(\"../data/epd_with_capacity.csv\")\n",
    "cad = pd.read_csv(\"../data/cleaned_full_class_data.csv\")"
   ]
  },
  {
   "cell_type": "markdown",
   "id": "a25cab9b-19a1-4462-a666-5307dbe49c8b",
   "metadata": {},
   "source": [
    "#### Convert time-based variables back to datetime objects."
   ]
  },
  {
   "cell_type": "code",
   "execution_count": 4,
   "id": "98ef0c72-7ad3-48d0-bc6c-bd1b0fa97cc4",
   "metadata": {},
   "outputs": [],
   "source": [
    "cahoots['calltime'] = pd.to_datetime(cahoots['calltime'], errors='coerce')\n",
    "cahoots['dispatchtime'] = pd.to_datetime(cahoots['dispatchtime'], errors='coerce')\n",
    "cahoots['arrivaltime'] = pd.to_datetime(cahoots['arrivaltime'], errors='coerce')\n",
    "cahoots['endtime'] = pd.to_datetime(cahoots['endtime'], errors='coerce')"
   ]
  },
  {
   "cell_type": "code",
   "execution_count": 5,
   "id": "2a8da45d-6bb5-4d32-b23e-da85d10e9a15",
   "metadata": {},
   "outputs": [],
   "source": [
    "epd['calltime'] = pd.to_datetime(epd['calltime'], errors='coerce')\n",
    "epd['dispatchtime'] = pd.to_datetime(epd['dispatchtime'], errors='coerce')\n",
    "epd['endtime'] = pd.to_datetime(epd['endtime'], errors='coerce')\n",
    "epd['time'] = pd.to_datetime(epd['time'], errors='coerce')"
   ]
  },
  {
   "cell_type": "code",
   "execution_count": 7,
   "id": "e2e104bd-e364-4787-aa95-a03e8188b7ba",
   "metadata": {},
   "outputs": [
    {
     "data": {
      "text/plain": [
       "array(['ASSAULT', 'DISPUTE', 'DISORDERLY SUBJECT',\n",
       "       'VEHICLE/PEDESTRIAN CRASH', 'CRIMINAL TRESPASS', 'ACCIDENT BIKE',\n",
       "       'CHECK WELFARE', 'DEATH MESSAGE', 'ASSIST FIRE DEPARTMENT',\n",
       "       'TRAFFIC HAZARD', 'CRIMINAL MISCHIEF', 'RUNAWAY JUVENILE',\n",
       "       'BURGLARY', 'DAMAGE CITY PROPERTY', 'ALARM HOLD UP', 'FOLLOW UP',\n",
       "       'RAPE', 'ATTEMPT TO LOCATE', 'DISPUTE FAMILY', 'HARASSMENT',\n",
       "       'LOCATION STOLEN VEHICLE', 'THEFT FROM VEHICLE', 'THEFT',\n",
       "       'ALARM PANIC', 'OVERDOSE', 'LOUD NOISE',\n",
       "       'LOCATION STOLEN PROPERTY', 'SUSPICIOUS CONDITIONS',\n",
       "       'LOCATION WANTED SUBJECT', 'SUSPICIOUS SUBJECT', 'SHOPLIFT',\n",
       "       'INCOMPLETE CALL', 'ASSAULT WITH INJURY', 'SHOPLIFT 3050 PROGRAM',\n",
       "       'DISORDERLY JUVENILES', 'PROWLER',\n",
       "       'ATTEMPT TO LOCATE DRUNK DRIVER', 'HIT AND RUN', 'SEX ABUSE',\n",
       "       'DISORDERLY MEDICAL TRANSPORT', 'BEAT INFORMATION',\n",
       "       'SUICIDAL SUBJECT', 'UNAUTHORIZED USE OF VEHICLE',\n",
       "       'MOTOR VEH ACC UNKNOWN INJ', 'SUSPICIOUS VEHICLE', 'SUBJECT DOWN',\n",
       "       'CUSTODIAL INTERFERENCE', 'ARSON', 'FOUND PROPERTY',\n",
       "       'WRONG WAY DRIVER', 'PATROL CHECK', 'INJURED ANIMAL',\n",
       "       'MOTOR VEH ACC NO INJURY', 'SUBPOENA SERVICE', 'ANIMAL COMPLAINT',\n",
       "       'DOG AT LARGE', 'UNKNOWN PROBLEM', 'RECKLESS ENDANGERING',\n",
       "       'BLOCKED DRIVEWAY', 'INDECENT EXPOSURE', 'ROBBERY',\n",
       "       'ASSIST OUTSIDE AGENCY', 'OPEN GATE', 'RECOVERED STOLEN VEHICLE',\n",
       "       'SUBJECT SCREAMING', 'UNLAWFUL VEHICLE ENTRY', 'AUDIBLE ALARM',\n",
       "       'VIOLATION OF CITY ORDINANCE', 'CARDIAC ARREST',\n",
       "       'ASSIST PUBLIC- POLICE', 'DOG VICIOUS', 'DECEASED SUBJECT',\n",
       "       'ILLEGAL BURNING', 'FRAUD', 'TRANSPORT', 'DUII',\n",
       "       'ASSIST SHERIFFS OFFICE', 'ABANDONED PROPERTY', 'ARMED SUBJECT',\n",
       "       'LIVESTOCK AT LARGE', 'MISSING PERSON', 'ANIMAL ATTACK/BITE',\n",
       "       'SHOTS FIRED', 'VIOLATION OF RESTRAINING ORDER', 'ILLEGAL CAMPING',\n",
       "       'FOUND CONTRABAND', 'WARRANT SERVICE', 'DISABLED VEHICLE',\n",
       "       'LOCATE MISSING PERSON', 'ASSIST OREGON STATE POLICE',\n",
       "       'FOUND CHILD', 'FOUND ANIMAL', 'INJURED SUBJECT', 'THEFT OF MAIL',\n",
       "       'MENTAL TRANSPORT', 'UNAUTHORIZED DEPARTURE',\n",
       "       'ACCIDENT VEHICLE BIKE', 'RECKLESS BURNING', 'OPEN DOOR',\n",
       "       'GRAFFITI', 'REQUEST COVER', 'EXPLOSION', 'ILLEGAL PARKING',\n",
       "       'FIGHT', 'ELDERLY ABUSE', 'DISORIENTED SUBJECT', 'WALKAWAY',\n",
       "       'MOTOR VEH ACC INJURY', 'DOG BITE', 'LOUD CONSTRUCTION',\n",
       "       'WATER RESCUE', 'DOG BARKING', 'CIVIL STANDBY', 'DRUG INFO',\n",
       "       'THEFT OF SERVICES', 'ANIMAL ABUSE', 'MENACING',\n",
       "       'TRAFFIC SIGNAL MALFUNCTION', 'INTOXICATED SUBJECT',\n",
       "       'STOP SIGN DOWN', 'ANIMAL AT LARGE', 'TRAFFIC COMPLAINT',\n",
       "       'THEFT OF BICYCLE', 'MENTAL SUBJECT', 'PARKING VIOLATION',\n",
       "       'ANIMAL CRUELTY', 'LOUD PARTY', 'ALARM', 'ALARM DURESS',\n",
       "       'THEFT BY DECEPTION', 'HAZARD SAFETY', 'RECKLESS DRIVIING',\n",
       "       'PURSUIT', 'FOUND SYRINGE', 'SUICIDE', 'CHILD ABUSE',\n",
       "       'UNATTENDED CHILDREN', 'INITIATING FALSE REPORT', 'ALARM SILENT',\n",
       "       'NUDE SUBJECT', 'NATURAL GAS LEAK', 'SUSPICIOUS DEVICE',\n",
       "       'OFFICER SAFETY INFO', 'FORGERY', 'OPEN CONTAINER', 'PURSE SNATCH',\n",
       "       'STALKING COMPLAINT', 'LOCATION RUNAWAY', 'MISSING JUVENILE',\n",
       "       'ABANDONED VEHICLE', 'FORGED PRESCRIPTION',\n",
       "       'RECOVERED STOLEN PROPERTY', 'DRIVING COMPLAINT', 'KIDNAP',\n",
       "       'SEARCH WARRANT', 'HAZARDOUS MATERIAL', 'DEAD ANIMAL',\n",
       "       'ARMED DISPUTE', 'ILLEGAL DISCHARGE FIREARM', 'DOWN LINE',\n",
       "       'TREE DOWN', 'DETOXIFICATION', 'HIT AND RUN INJURY',\n",
       "       'INTIMIDATION', 'MINOR IN POSSESSION',\n",
       "       'IN POSSESSION OF NARCOTICS', 'ASSIST PUBLIC WORKS',\n",
       "       'CONTROLLED SUBSTANCE VIOLATION', 'STAB WOUND',\n",
       "       'EMERGENCY MESSAGE', 'POLICE OFFICER HOLD', 'GUNSHOT WOUND',\n",
       "       'ILLEGAL DUMPING', 'LOST PROPERTY', 'ABANDONED ANIMAL',\n",
       "       'IMPERSONATING AN OFFICER', 'WEAPON OFFENSE', 'SPEEDING VEHICLE',\n",
       "       'BLOCKED SIDEWALK', 'PUBLIC INDECENCY', 'INFORMATION - POLICE',\n",
       "       'ANIMAL BITE', 'ARMED ROBBERY', 'DISORDERLY PARTY',\n",
       "       'VEHICLE IN WATER', 'LARGE AIRCRAFT PROBLEM',\n",
       "       'DAMAGED GOVERNMENT PROPERTY', 'SWITCHED PLATE',\n",
       "       'REQUEST ASSISTANCE', 'BLOCKED ALLEY', 'CARELESS DRIVING',\n",
       "       'MEDICAL INFORMATION', 'PERSON STOP',\n",
       "       'INFORMATION- BOTH PD AND FD', 'THEFT OF IDENTITY',\n",
       "       'CHILD ABANDONED', 'OPEN WINDOW', 'RUNAWAY CLEARED',\n",
       "       'VIN INSPECTION', 'COMPUTER CRIME', 'TRAFFIC STOP', 'ALARM VARDA',\n",
       "       'JUVENILE PROBLEM', 'ARREST', 'SEIZED CONTRABAND', 'WATER PROBLEM',\n",
       "       'FORGED CHECK', 'MOTOR VEH ACC FATALITY', 'LITTERING OFFENSIVE',\n",
       "       'ABANDONED BIKE', 'SIGN DOWN', 'CRIME INFORMATION',\n",
       "       'CHILD NEGLECT', 'ILLEGAL FIREWORKS', 'BOMB THREAT', 'POISONING',\n",
       "       'RECKLESS DRIVING', 'ACCIDENT TRAIN INJURY', 'EXTORTION',\n",
       "       'CRIMINAL MISTREATMENT', 'SPEEDING MOTORCYCLE', 'MISSING VEHICLE',\n",
       "       'THEFT OF GUN', 'RAILROAD CROSSING PROBLEM', 'DROWNING',\n",
       "       'NARCOTICS INVESTIGATION', 'ILL SUBJECT', 'SUSPICIOUS SUBSTANCE',\n",
       "       'TOWED VEHICLE', 'DWS', 'CITIZEN CONTACT',\n",
       "       'TRAIN VS PED/BIKE CRASH', 'ALARM BC ACTIVATION',\n",
       "       'HAZARDOUS SPILL', 'SMALL AIRCRAFT PROBLEM', 'SODOMY',\n",
       "       'DISORDERLY CONDUCT', 'FIRE APARTMENT', 'THEFT OF LICENSE PLATE',\n",
       "       'MOTOR VEHICLE ACC W/HAZMAT', 'REQUEST K9',\n",
       "       'NATURAL GAS OR PROPANE LEAK', 'REQUEST DRE', 'FOOT PATROL',\n",
       "       'GAS LEAK', 'LOST SUBJECT', 'ILLEGAL MOTORCYCLE',\n",
       "       'LIQUOR VIOLATION', 'PROSTITUTION', 'HOMICIDE',\n",
       "       'BROKEN WATER MAIN', 'PATROL REQUEST', 'STORAGE ON STREET',\n",
       "       'BAR CHECK', 'ASSIST MOTORIST', 'TRAIN VS VEHICLE CRASH',\n",
       "       'INTERFERING WITH POLICE', 'CHEST PAIN', 'TRASH BIN FIRE',\n",
       "       'GUARD DUTY', 'ROAD CLOSURE INFORMATION', 'RESPIRATORY ARREST',\n",
       "       'SEIZED PROPERTY', 'COERCION', 'RESCUE OPERATION',\n",
       "       'CURB/EASEMENT TRESPASSING', 'ATTEMPT TO LOCATE CANCEL', 'ESCAPE',\n",
       "       'ASSAULT APA', 'RIOT', 'GAS LEAK, LARGE STRUCTURE',\n",
       "       'OUTSIDE GAS LEAK', 'FAIL TO REG SEX OFND', 'FLAGGED DOWN',\n",
       "       'CHECK WELFARE, CAHOOTS', 'CHRISTMAS LIGHT THEFT DAMAGE',\n",
       "       'DISORIENTED SUBJECT, CAHOOTS', 'GAS LEAK, STRUCTURE',\n",
       "       'SUICIDAL SUBJECT, CAHOOTS', 'OVERDUE SUBJECT',\n",
       "       'MINOR IN POSSESSION TOBACCO', 'GAS LEAK, MINOR STRUCTURE'],\n",
       "      dtype=object)"
      ]
     },
     "execution_count": 7,
     "metadata": {},
     "output_type": "execute_result"
    }
   ],
   "source": [
    "epd['nature'].unique()"
   ]
  },
  {
   "cell_type": "code",
   "execution_count": 11,
   "id": "c4a72128-c818-4ce3-ba61-66881d82405b",
   "metadata": {},
   "outputs": [
    {
     "data": {
      "text/plain": [
       "array(['TRANSPORT', 'SUBJECT DOWN', 'ASSIST PUBLIC- POLICE',\n",
       "       'CHECK WELFARE', 'TRAFFIC HAZARD', 'CRIMINAL TRESPASS', 'DISPUTE',\n",
       "       'FOUND SYRINGE', 'DISORDERLY SUBJECT', 'INTOXICATED SUBJECT',\n",
       "       'SUICIDAL SUBJECT', 'SUSPICIOUS CONDITIONS', 'ASSAULT',\n",
       "       'SUSPICIOUS SUBJECT', 'ASSIST FIRE DEPARTMENT',\n",
       "       'DISORIENTED SUBJECT', 'ASSIST OUTSIDE AGENCY', 'LOUD NOISE',\n",
       "       'HAZARD SAFETY', 'MENTAL SUBJECT', 'OVERDOSE', 'DEATH MESSAGE',\n",
       "       'ASSAULT WITH INJURY', 'HARASSMENT', 'MOTOR VEH ACC NO INJURY',\n",
       "       'MISSING JUVENILE', 'EMERGENCY MESSAGE',\n",
       "       'DISORDERLY MEDICAL TRANSPORT', 'FOUND CONTRABAND',\n",
       "       'BEAT INFORMATION', 'UNKNOWN PROBLEM', 'ACCIDENT BIKE',\n",
       "       'ILLEGAL CAMPING', 'SUBJECT SCREAMING', 'DRUG INFO',\n",
       "       'DISORDERLY JUVENILES', 'RECKLESS DRIVIING', 'CRIMINAL MISCHIEF',\n",
       "       'DOG BITE', 'INFORMATION - POLICE', 'NUDE SUBJECT',\n",
       "       'MENTAL TRANSPORT', 'INDECENT EXPOSURE', 'INCOMPLETE CALL',\n",
       "       'ATTEMPT TO LOCATE', 'FOLLOW UP', 'TRAFFIC COMPLAINT', 'POISONING',\n",
       "       'MISSING PERSON', 'DISPUTE FAMILY', 'INJURED SUBJECT', 'THEFT',\n",
       "       'ACCIDENT VEHICLE BIKE', 'SEIZURES', 'RESPIRATORY ARREST',\n",
       "       'WALKAWAY', 'VIOLATION OF CITY ORDINANCE', 'PATROL CHECK',\n",
       "       'SEX ABUSE', 'FRAUD', 'OPEN CONTAINER', 'PUBLIC INDECENCY',\n",
       "       'ASSIST SHERIFFS OFFICE', 'UNATTENDED CHILDREN', 'ANIMAL CRUELTY',\n",
       "       'BURGLARY', 'ANIMAL COMPLAINT', 'INJURED ANIMAL',\n",
       "       'THEFT FROM VEHICLE', 'ROBBERY', 'PERSON STOP', 'RAPE',\n",
       "       'AUDIBLE ALARM', 'ATTEMPT TO LOCATE DRUNK DRIVER',\n",
       "       'SHOPLIFT 3050 PROGRAM', 'BLOCKED SIDEWALK', 'SUSPICIOUS VEHICLE',\n",
       "       'CIVIL STANDBY', 'VEHICLE/PEDESTRIAN CRASH',\n",
       "       'MOTOR VEH ACC UNKNOWN INJ', 'CARDIAC ARREST', 'JUVENILE PROBLEM',\n",
       "       'DISABLED VEHICLE', 'DOWN LINE', 'GUNSHOT WOUND',\n",
       "       'LOCATE MISSING PERSON', 'REQUEST COVER', 'ARMED SUBJECT',\n",
       "       'UNAUTHORIZED USE OF VEHICLE', 'CHILD ABUSE', 'THEFT OF SERVICES',\n",
       "       'RECKLESS BURNING', 'DOG AT LARGE', 'DETOXIFICATION',\n",
       "       'ILL SUBJECT', 'LOST SUBJECT', 'ASSIST OREGON STATE POLICE',\n",
       "       'ILLEGAL BURNING', 'OFFICER SAFETY INFO', 'LOCATION RUNAWAY',\n",
       "       'PROWLER', 'BLOCKED ALLEY', 'UNLAWFUL VEHICLE ENTRY',\n",
       "       'CITIZEN CONTACT', 'GAS LEAK', 'HIT AND RUN', 'RUNAWAY JUVENILE',\n",
       "       'STAB WOUND', 'MENACING', 'SHOTS FIRED', 'SUICIDE',\n",
       "       'RECKLESS DRIVING', 'ANIMAL ATTACK/BITE', 'DECEASED SUBJECT',\n",
       "       'REQUEST ASSISTANCE', 'FLAGGED DOWN',\n",
       "       'INFORMATION- BOTH PD AND FD', 'WATER RESCUE', 'ANIMAL AT LARGE',\n",
       "       'LIVESTOCK AT LARGE', 'ELDERLY ABUSE', 'FOUND SYRINGE, CAHOOTS',\n",
       "       'TRANSPORT, CAHOOTS', 'PUBLIC ASSIST, CAHOOTS',\n",
       "       'SUICIDAL SUBJECT, CAHOOTS', 'DISORDERLY SUBJECT, CAHOOTS',\n",
       "       'CHECK WELFARE, CAHOOTS', 'ASSIST PD, CAHOOTS',\n",
       "       'INTOXICATED SUBJECT, CAHOOTS', 'DISORIENTED SUBJECT, CAHOOTS',\n",
       "       'ASSIST FD, CAHOOTS', 'TRAFFIC HAZARD, CAHOOTS',\n",
       "       'INFO / ATL, CAHOOTS'], dtype=object)"
      ]
     },
     "execution_count": 11,
     "metadata": {},
     "output_type": "execute_result"
    }
   ],
   "source": [
    "cad[cad['agency'] == 'CAHOOTS']['nature'].unique()"
   ]
  },
  {
   "cell_type": "code",
   "execution_count": 13,
   "id": "e8a931ba-99ac-4fce-89d4-e6d722f8bba6",
   "metadata": {},
   "outputs": [],
   "source": [
    "cahoots_like_epd_calls = [\n",
    "  \"ACCIDENT BIKE\",\n",
    "  \"ANIMAL COMPLAINT\",\n",
    "  \"ASSAULT\",\n",
    "  \"ASSIST FIRE DEPARTMENT\",\n",
    "  \"ASSIST OUTSIDE AGENCY\",\n",
    "  \"ATTEMPT TO LOCATE\",\n",
    "  \"CHECK WELFARE\",\n",
    "  \"CRIMINAL MISCHIEF\",\n",
    "  \"CRIMINAL TRESPASS\",\n",
    "  \"DEATH MESSAGE\",\n",
    "  \"DISORDERLY JUVENILES\",\n",
    "  \"DISORDERLY MEDICAL TRANSPORT\",\n",
    "  \"DISORDERLY SUBJECT\",\n",
    "  \"DISORIENTED SUBJECT\",\n",
    "  \"DISPUTE\",\n",
    "  \"DOG BITE\",\n",
    "  \"FOLLOW UP\",\n",
    "  \"FOUND SYRINGE\",\n",
    "  \"HARASSMENT\",\n",
    "  \"INDECENT EXPOSURE\",\n",
    "  \"INJURED SUBJECT\",\n",
    "  \"INTOXICATED SUBJECT\",\n",
    "  \"LOUD NOISE\",\n",
    "  \"MENTAL TRANSPORT\",\n",
    "  \"MOTOR VEH ACC NO INJURY\",\n",
    "  \"OVERDOSE\",\n",
    "  \"ROBBERY\",\n",
    "  \"RUNAWAY JUVENILE\",\n",
    "  \"SUBJECT DOWN\",\n",
    "  \"SUICIDAL SUBJECT\",\n",
    "  \"SUICIDE\",\n",
    "  \"SUSPICIOUS CONDITIONS\",\n",
    "  \"SUSPICIOUS SUBJECT\",\n",
    "  \"THEFT\",\n",
    "  \"TRAFFIC HAZARD\",\n",
    "  \"TRANSPORT\"\n",
    "]\n"
   ]
  },
  {
   "cell_type": "code",
   "execution_count": 14,
   "id": "787f1e18-9f73-45c8-8859-169db513c583",
   "metadata": {},
   "outputs": [],
   "source": [
    "epd = epd[epd['nature'].isin(cahoots_like_epd_calls)]"
   ]
  },
  {
   "cell_type": "markdown",
   "id": "ec3f8cba-2ee0-4547-ae3a-d4457fc2e812",
   "metadata": {},
   "source": [
    "#### Separate into groups for statistical tests.\n",
    "Split, for both EPD and CAHOOTS, by whether cahoots was at capacity or not."
   ]
  },
  {
   "cell_type": "code",
   "execution_count": 15,
   "id": "7158c6da-6323-4a35-aed6-0c959101e189",
   "metadata": {},
   "outputs": [],
   "source": [
    "epd_full = epd[epd['cahoots_at_capacity'] == True]['secs_to_arrv']\n",
    "epd_avail = epd[epd['cahoots_at_capacity'] == False]['secs_to_arrv']\n",
    "\n",
    "cahoots_full = cahoots[cahoots['capacity'] == True]['secs_to_arrv']\n",
    "cahoots_avail = cahoots[cahoots['capacity'] == False]['secs_to_arrv']"
   ]
  },
  {
   "cell_type": "markdown",
   "id": "2d651759-424e-43df-9543-3ae4f7276161",
   "metadata": {},
   "source": [
    "#### Create results DataFrame to store statistics and p-values from tests"
   ]
  },
  {
   "cell_type": "code",
   "execution_count": 16,
   "id": "15eda37f-4cee-4b41-8992-96e816585247",
   "metadata": {},
   "outputs": [],
   "source": [
    "results = pd.DataFrame(columns=['test', 'statistic', 'p_value'])"
   ]
  },
  {
   "cell_type": "markdown",
   "id": "f462c65b-213f-4174-a194-174b3430d037",
   "metadata": {},
   "source": [
    "## Test #1: LEVENES\n",
    "\n",
    "Use: conduct before t-test to decide whether to assume equal variances.\n",
    "\n",
    "#### Hypotheses:\n",
    "- p > 0.05 → variances are similar → use regular t-test\n",
    "- p < 0.05 → variances differ → use Welch’s t-test (equal_var=False)\n",
    "\n",
    "**input**: the continuous response variable (`secs_to_arrv`), based on whether the agency is at full or capacity or has availability (separate tests for CAHOOTS and EPD)\n",
    "\n",
    "**ouput**: W-stat and p-value"
   ]
  },
  {
   "cell_type": "code",
   "execution_count": 17,
   "id": "053a5f8a-8fc6-4edf-8982-d609755ec715",
   "metadata": {},
   "outputs": [
    {
     "name": "stdout",
     "output_type": "stream",
     "text": [
      "w-stat = 104.5559185742301\n",
      "p = 1.5452300452692483e-24\n"
     ]
    }
   ],
   "source": [
    "from scipy.stats import levene\n",
    "stat, p_val = levene(epd_full, epd_avail)\n",
    "\n",
    "results.loc[len(results)] = np.array(['levenes_epd', stat, p_val])\n",
    "\n",
    "print(f'w-stat = {stat}')\n",
    "print(f'p = {p_val}')"
   ]
  },
  {
   "cell_type": "markdown",
   "id": "840eaed4-713e-4cab-b60f-a5a56066e871",
   "metadata": {},
   "source": [
    "__CONCLUSION: EPD variances *differ* (p = 7.9 * 10^(-16) < 0.05)__"
   ]
  },
  {
   "cell_type": "code",
   "execution_count": 18,
   "id": "fcd099bd-0c90-4dc4-b784-4ac7f4685945",
   "metadata": {},
   "outputs": [
    {
     "name": "stdout",
     "output_type": "stream",
     "text": [
      "w-stat = 15.222614715763982\n",
      "p = 9.560222613625285e-05\n"
     ]
    }
   ],
   "source": [
    "stat, p_val = levene(cahoots_full, cahoots_avail)\n",
    "\n",
    "results.loc[len(results)] = np.array(['levenes_cahoots', stat, p_val])\n",
    "\n",
    "print(f'w-stat = {stat}')\n",
    "print(f'p = {p_val}')"
   ]
  },
  {
   "cell_type": "markdown",
   "id": "8dfacf20-6d4f-43af-8831-ebf8e7d49ccf",
   "metadata": {},
   "source": [
    "__CONCLUSION: CAHOOTS variances *differ* (p = 9.6 * 10^(-5) < 0.05)__"
   ]
  },
  {
   "cell_type": "markdown",
   "id": "cca31ee4-6673-4050-8a4d-9616dd5800ca",
   "metadata": {},
   "source": [
    "## Test #2: T TEST\n",
    "Use: to determine if there is a significant difference between the means of two groups.\n",
    "\n",
    "#### Hypotheses:\n",
    "- H₀: The mean arrival time is the same whether CAHOOTS is at capacity or not.\n",
    "- H₁: The mean arrival time is different depending on whether CAHOOTS is at capacity.\n",
    "\n",
    "**input**: the continuous response variable (`secs_to_arrv`), based on whether the agency is at full or capacity or has availability (separate tests for CAHOOTS and EPD)\n",
    "\n",
    "**ouput**: T-stat and p-value"
   ]
  },
  {
   "cell_type": "code",
   "execution_count": 19,
   "id": "12fa929c-274b-46d7-a5ae-7b3bfe289850",
   "metadata": {},
   "outputs": [
    {
     "name": "stdout",
     "output_type": "stream",
     "text": [
      "t-stat = 11.036709055477136\n",
      "p-value = 2.6679339768827465e-28\n"
     ]
    }
   ],
   "source": [
    "from scipy.stats import ttest_ind\n",
    "combined = np.concatenate([epd_full, epd_avail])\n",
    "mean_comb = combined.mean()\n",
    "std_comb = combined.std()\n",
    "\n",
    "epd_full_norm = (epd_full - mean_comb) / std_comb\n",
    "epd_avail_norm = (epd_avail - mean_comb) / std_comb\n",
    "\n",
    "t_stat, p_value = ttest_ind(epd_full_norm, epd_avail_norm, equal_var=False)\n",
    "\n",
    "results.loc[len(results)] = np.array(['t_test_epd', t_stat, p_value])\n",
    "\n",
    "print(\"t-stat =\", t_stat)\n",
    "print(\"p-value =\", p_value)"
   ]
  },
  {
   "cell_type": "markdown",
   "id": "c5494f31-c000-4cf2-b8f1-d76574840d7a",
   "metadata": {},
   "source": [
    "__CONCLUSION: mean EPD arrival time is *different* (p = 3.9 * 10^(-16) < 0.05)__"
   ]
  },
  {
   "cell_type": "code",
   "execution_count": 20,
   "id": "edda902d-9abe-40b9-8c13-c6abe85d3392",
   "metadata": {},
   "outputs": [
    {
     "name": "stdout",
     "output_type": "stream",
     "text": [
      "t-stat = 8.765162279529058\n",
      "p-value = 1.9283186741696096e-18\n"
     ]
    }
   ],
   "source": [
    "combined = np.concatenate([cahoots_full, cahoots_avail])\n",
    "mean_comb = combined.mean()\n",
    "std_comb = combined.std()\n",
    "\n",
    "cahoots_full_norm = (cahoots_full - mean_comb) / std_comb\n",
    "cahoots_avail_norm = (cahoots_avail - mean_comb) / std_comb\n",
    "\n",
    "t_stat, p_value = ttest_ind(cahoots_full_norm, cahoots_avail_norm, equal_var=False)\n",
    "\n",
    "results.loc[len(results)] = np.array(['t_test_cahoots', t_stat, p_value])\n",
    "\n",
    "print(\"t-stat =\", t_stat)\n",
    "print(\"p-value =\", p_value)"
   ]
  },
  {
   "cell_type": "markdown",
   "id": "16f7266a-e899-4b25-9654-c96784463e57",
   "metadata": {},
   "source": [
    "__CONCLUSION: mean CAHOOTS arrival time is *different* (p = 1.9 * 10^(-18) < 0.05)__"
   ]
  },
  {
   "cell_type": "markdown",
   "id": "07d54722-435e-42d5-a22e-21b92b0e774f",
   "metadata": {},
   "source": [
    "## Test #3: KS TEST\n",
    "\n",
    "Use: to determine if two distributions differ significantly.\n",
    "\n",
    "#### Hypotheses:\n",
    "- H₀: The two samples come from the same continuous distribution (this means the shape, center, spread — everything about the distributions — is statistically indistinguishable)\n",
    "- H₁: The two samples come from different distributions (this means there’s some difference in the distribution — could be the mean, variance, skew, tails, etc.)\n",
    "\n",
    "**input**: the continuous response variable (`secs_to_arrv`), based on whether the agency is at full or capacity or has availability (separate tests for CAHOOTS and EPD)\n",
    "\n",
    "**ouput**: D-stat and p-value"
   ]
  },
  {
   "cell_type": "code",
   "execution_count": 21,
   "id": "f3bcffe1-5a14-491f-896e-2c2735adbfac",
   "metadata": {},
   "outputs": [
    {
     "name": "stdout",
     "output_type": "stream",
     "text": [
      "d-stat = 0.019765813435662527\n",
      "p = 1.5549874229505198e-13\n"
     ]
    }
   ],
   "source": [
    "from scipy.stats import ks_2samp\n",
    "stat, pvalue = ks_2samp(epd_full, epd_avail)\n",
    "\n",
    "results.loc[len(results)] = np.array(['ks_epd', stat, pvalue])\n",
    "\n",
    "print(f'd-stat = {stat}')\n",
    "print(f'p = {pvalue}')"
   ]
  },
  {
   "cell_type": "markdown",
   "id": "4b8c73f1-5738-441c-b0b2-c5ff38186bca",
   "metadata": {},
   "source": [
    "__CONCLUSION: distribution of EPD arrival times do *differ* based on capacity (p = 1.5 * 10^(-8) < 0.05)__"
   ]
  },
  {
   "cell_type": "code",
   "execution_count": 22,
   "id": "813ff435-c02b-4392-b08d-8aaa46475c92",
   "metadata": {},
   "outputs": [
    {
     "name": "stdout",
     "output_type": "stream",
     "text": [
      "d-stat = 0.07094138091975888\n",
      "p = 1.415682401495223e-97\n"
     ]
    }
   ],
   "source": [
    "stat, pvalue = ks_2samp(cahoots_full, cahoots_avail)\n",
    "\n",
    "results.loc[len(results)] = np.array(['ks_cahoots', stat, pvalue])\n",
    "\n",
    "print(f'd-stat = {stat}')\n",
    "print(f'p = {pvalue}')"
   ]
  },
  {
   "cell_type": "markdown",
   "id": "5296d83e-ef7f-49e9-abca-8ebd638a9f25",
   "metadata": {},
   "source": [
    "__CONCLUSION: distribution of CAHOOTS arrival times do *differ* based on capacity (p = 1.4 * 10^(-97) < 0.05)__"
   ]
  },
  {
   "cell_type": "markdown",
   "id": "7ef63159-858d-4a3a-8bb5-08c00e769f7e",
   "metadata": {},
   "source": [
    "#### Quick look at the results"
   ]
  },
  {
   "cell_type": "code",
   "execution_count": 23,
   "id": "b75f178f-05bf-4e23-92ed-67d4ea9446eb",
   "metadata": {},
   "outputs": [
    {
     "data": {
      "text/html": [
       "<div>\n",
       "<style scoped>\n",
       "    .dataframe tbody tr th:only-of-type {\n",
       "        vertical-align: middle;\n",
       "    }\n",
       "\n",
       "    .dataframe tbody tr th {\n",
       "        vertical-align: top;\n",
       "    }\n",
       "\n",
       "    .dataframe thead th {\n",
       "        text-align: right;\n",
       "    }\n",
       "</style>\n",
       "<table border=\"1\" class=\"dataframe\">\n",
       "  <thead>\n",
       "    <tr style=\"text-align: right;\">\n",
       "      <th></th>\n",
       "      <th>test</th>\n",
       "      <th>statistic</th>\n",
       "      <th>p_value</th>\n",
       "    </tr>\n",
       "  </thead>\n",
       "  <tbody>\n",
       "    <tr>\n",
       "      <th>0</th>\n",
       "      <td>levenes_epd</td>\n",
       "      <td>104.5559185742301</td>\n",
       "      <td>1.5452300452692483e-24</td>\n",
       "    </tr>\n",
       "    <tr>\n",
       "      <th>1</th>\n",
       "      <td>levenes_cahoots</td>\n",
       "      <td>15.222614715763982</td>\n",
       "      <td>9.560222613625285e-05</td>\n",
       "    </tr>\n",
       "    <tr>\n",
       "      <th>2</th>\n",
       "      <td>t_test_epd</td>\n",
       "      <td>11.036709055477136</td>\n",
       "      <td>2.6679339768827465e-28</td>\n",
       "    </tr>\n",
       "    <tr>\n",
       "      <th>3</th>\n",
       "      <td>t_test_cahoots</td>\n",
       "      <td>8.765162279529058</td>\n",
       "      <td>1.9283186741696096e-18</td>\n",
       "    </tr>\n",
       "    <tr>\n",
       "      <th>4</th>\n",
       "      <td>ks_epd</td>\n",
       "      <td>0.019765813435662527</td>\n",
       "      <td>1.5549874229505198e-13</td>\n",
       "    </tr>\n",
       "    <tr>\n",
       "      <th>5</th>\n",
       "      <td>ks_cahoots</td>\n",
       "      <td>0.07094138091975888</td>\n",
       "      <td>1.415682401495223e-97</td>\n",
       "    </tr>\n",
       "  </tbody>\n",
       "</table>\n",
       "</div>"
      ],
      "text/plain": [
       "              test             statistic                 p_value\n",
       "0      levenes_epd     104.5559185742301  1.5452300452692483e-24\n",
       "1  levenes_cahoots    15.222614715763982   9.560222613625285e-05\n",
       "2       t_test_epd    11.036709055477136  2.6679339768827465e-28\n",
       "3   t_test_cahoots     8.765162279529058  1.9283186741696096e-18\n",
       "4           ks_epd  0.019765813435662527  1.5549874229505198e-13\n",
       "5       ks_cahoots   0.07094138091975888   1.415682401495223e-97"
      ]
     },
     "execution_count": 23,
     "metadata": {},
     "output_type": "execute_result"
    }
   ],
   "source": [
    "results"
   ]
  },
  {
   "cell_type": "markdown",
   "id": "497b9b27-3f0c-40a6-9cfa-f11a1cfc0852",
   "metadata": {},
   "source": [
    "### Quick Visualizations\n",
    "just to help aid interpretations and guide the final plots"
   ]
  },
  {
   "cell_type": "code",
   "execution_count": 24,
   "id": "700b2fca-0687-4ec2-a55d-37e8803fd808",
   "metadata": {},
   "outputs": [
    {
     "data": {
      "image/png": "[encoded data removed]",
      "text/plain": [
       "<Figure size 640x480 with 1 Axes>"
      ]
     },
     "metadata": {},
     "output_type": "display_data"
    }
   ],
   "source": [
    "plt.hist(cahoots_avail, bins=2000, label='CAHOOTS w/ vans avail.')\n",
    "plt.hist(cahoots_full, bins=2000, label='CAHOOTS w/ no vans avail.')\n",
    "plt.xlim(0, 8640)\n",
    "plt.legend()\n",
    "plt.title('CAHOOTS secs from call to arrv')\n",
    "plt.show()"
   ]
  },
  {
   "cell_type": "code",
   "execution_count": 25,
   "id": "65808c61-ecbd-4d3a-93e6-bf60e9753661",
   "metadata": {},
   "outputs": [
    {
     "data": {
      "image/png": "[encoded data removed]",
      "text/plain": [
       "<Figure size 640x480 with 1 Axes>"
      ]
     },
     "metadata": {},
     "output_type": "display_data"
    }
   ],
   "source": [
    "plt.hist(epd_full, bins=2000, label='CAHOOTS w/ no vans avail.')\n",
    "plt.hist(epd_avail, bins=2000, label='CAHOOTS w/ vans avail.')\n",
    "plt.xlim(0, 8640)\n",
    "plt.legend()\n",
    "plt.title('EPD secs from call to arrv')\n",
    "plt.show()"
   ]
  },
  {
   "cell_type": "markdown",
   "id": "9b837a5a-56d3-4733-9c8d-263b1c3ee2e7",
   "metadata": {},
   "source": [
    "### Rough interpretations/ideas based on visualizations & results\n",
    "results may be impacted because...\n",
    "- the majority of their data may be while CAHOOTS *doesn't* have vans available\n",
    "- they take higher call volume then cahoots\n",
    "- they're more available then cahoots (i.e. more service hours, more vans, more etc.)\n",
    "- if cahoots is at capacity, EPD has so many units that they may have 10 units all on calls at the *same* time\n",
    "- cahoots not getting calls if theyre full (i.e. passing them on to EPD)\n",
    "\n",
    "expanding on the last idea...\n",
    "- when CAHOOTS is full, only the most urgent calls get through\n",
    "- if CAHOOTS is at capacity, only higher-priority, more urgent calls are dispatched immediately once a unit becomes free\n",
    "- this can lead to faster response times for those rare “squeezed in” calls\n",
    "- when CAHOOTS is not full, they may handle a broader range of lower-priority calls, some of which take longer to get to"
   ]
  },
  {
   "cell_type": "markdown",
   "id": "c17a149f-f347-4fbb-a22e-acfedbe72e64",
   "metadata": {},
   "source": [
    "#### Another quick look, this time at percentiles and means"
   ]
  },
  {
   "cell_type": "code",
   "execution_count": 26,
   "id": "af23a326-894b-4702-80b1-ea6a4cf87893",
   "metadata": {},
   "outputs": [
    {
     "name": "stdout",
     "output_type": "stream",
     "text": [
      "cahoots_full 90th percentile: 15197.5\n",
      "cahoots_avail 90th percentile: 14515.0\n"
     ]
    }
   ],
   "source": [
    "print(f'cahoots_full 90th percentile: {np.percentile(cahoots_full, 90)}')\n",
    "print(f'cahoots_avail 90th percentile: {np.percentile(cahoots_avail, 90)}')"
   ]
  },
  {
   "cell_type": "code",
   "execution_count": 27,
   "id": "1a26c157-3981-4e7b-ac25-6bc26317754e",
   "metadata": {},
   "outputs": [
    {
     "name": "stdout",
     "output_type": "stream",
     "text": [
      "epd_full 90th percentile: 8577.0\n",
      "epd_avail 90th percentile: 7202.199999999997\n"
     ]
    }
   ],
   "source": [
    "print(f'epd_full 90th percentile: {np.percentile(epd_full, 90)}')\n",
    "print(f'epd_avail 90th percentile: {np.percentile(epd_avail, 90)}')"
   ]
  },
  {
   "cell_type": "code",
   "execution_count": 28,
   "id": "e53a5ada-13f1-4e52-93c7-d97efa8c98c2",
   "metadata": {},
   "outputs": [
    {
     "name": "stdout",
     "output_type": "stream",
     "text": [
      "cahoots_full mean: 6373.30267628094\n",
      "cahoots_avail mean: 5859.846222563858\n"
     ]
    }
   ],
   "source": [
    "print(f'cahoots_full mean: {np.mean(cahoots_full)}')\n",
    "print(f'cahoots_avail mean: {np.mean(cahoots_avail)}')"
   ]
  },
  {
   "cell_type": "code",
   "execution_count": 29,
   "id": "54a7b08f-df3c-470c-87b4-58db5f3c4b80",
   "metadata": {},
   "outputs": [
    {
     "name": "stdout",
     "output_type": "stream",
     "text": [
      "epd_full mean: 3475.6594873559266\n",
      "epd_avail mean: 3076.405959500577\n"
     ]
    }
   ],
   "source": [
    "print(f'epd_full mean: {np.mean(epd_full)}')\n",
    "print(f'epd_avail mean: {np.mean(epd_avail)}')"
   ]
  },
  {
   "cell_type": "markdown",
   "id": "9538dcc5-e6b2-40f5-9693-85ed9d734792",
   "metadata": {},
   "source": [
    "### Save `results` DataFrame as a .csv file"
   ]
  },
  {
   "cell_type": "code",
   "execution_count": 30,
   "id": "27aea6d8-86a4-4557-a644-8cc36c43bdcc",
   "metadata": {},
   "outputs": [],
   "source": [
    "results.to_csv('../results/results_capacity2.csv')"
   ]
  },
  {
   "cell_type": "code",
   "execution_count": 31,
   "id": "8eff3759-710b-45bd-b5b8-1fb89da55d36",
   "metadata": {},
   "outputs": [],
   "source": [
    "epd.to_csv('../results/epd_nature_sub.csv')"
   ]
  },
  {
   "cell_type": "code",
   "execution_count": null,
   "id": "a7054c66-7160-4d07-821b-4b37a9928ffa",
   "metadata": {},
   "outputs": [],
   "source": []
  }
 ],
 "metadata": {
  "kernelspec": {
   "display_name": "Python [conda env:base] *",
   "language": "python",
   "name": "conda-base-py"
  },
  "language_info": {
   "codemirror_mode": {
    "name": "ipython",
    "version": 3
   },
   "file_extension": ".py",
   "mimetype": "text/x-python",
   "name": "python",
   "nbconvert_exporter": "python",
   "pygments_lexer": "ipython3",
   "version": "3.12.7"
  }
 },
 "nbformat": 4,
 "nbformat_minor": 5
}
