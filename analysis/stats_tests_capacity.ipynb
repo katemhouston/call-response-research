{
 "cells": [
  {
   "cell_type": "code",
   "execution_count": 1,
   "id": "3e0eb458-5c07-45f2-a1ab-b21e02d0e3a4",
   "metadata": {},
   "outputs": [],
   "source": [
    "import pandas as pd\n",
    "import numpy as np\n",
    "from datetime import datetime, timedelta\n",
    "import re\n",
    "import matplotlib.pyplot as plt\n",
    "import seaborn as sns"
   ]
  },
  {
   "cell_type": "markdown",
   "id": "6c4442bd-bda4-4163-bb86-afd621407974",
   "metadata": {},
   "source": [
    "# Statistical Analysis: Capacity"
   ]
  },
  {
   "cell_type": "markdown",
   "id": "96f73fb5-c82a-4985-b9f7-ae408c13870e",
   "metadata": {},
   "source": [
    "### Import CAHOOTS and EPD-based capacity logs"
   ]
  },
  {
   "cell_type": "code",
   "execution_count": 2,
   "id": "9bae6338-5aec-4346-985e-1ab890512d25",
   "metadata": {},
   "outputs": [],
   "source": [
    "cahoots = pd.read_csv(\"../data/busy_log.csv\")\n",
    "epd = pd.read_csv(\"../data/epd_with_capacity.csv\")"
   ]
  },
  {
   "cell_type": "markdown",
   "id": "a25cab9b-19a1-4462-a666-5307dbe49c8b",
   "metadata": {},
   "source": [
    "#### Convert time-based variables back to datetime objects."
   ]
  },
  {
   "cell_type": "code",
   "execution_count": 3,
   "id": "98ef0c72-7ad3-48d0-bc6c-bd1b0fa97cc4",
   "metadata": {},
   "outputs": [],
   "source": [
    "cahoots['calltime'] = pd.to_datetime(cahoots['calltime'], errors='coerce')\n",
    "cahoots['dispatchtime'] = pd.to_datetime(cahoots['dispatchtime'], errors='coerce')\n",
    "cahoots['arrivaltime'] = pd.to_datetime(cahoots['arrivaltime'], errors='coerce')\n",
    "cahoots['endtime'] = pd.to_datetime(cahoots['endtime'], errors='coerce')"
   ]
  },
  {
   "cell_type": "code",
   "execution_count": 4,
   "id": "2a8da45d-6bb5-4d32-b23e-da85d10e9a15",
   "metadata": {},
   "outputs": [],
   "source": [
    "epd['calltime'] = pd.to_datetime(epd['calltime'], errors='coerce')\n",
    "epd['dispatchtime'] = pd.to_datetime(epd['dispatchtime'], errors='coerce')\n",
    "epd['endtime'] = pd.to_datetime(epd['endtime'], errors='coerce')\n",
    "epd['time'] = pd.to_datetime(epd['time'], errors='coerce')"
   ]
  },
  {
   "cell_type": "markdown",
   "id": "ec3f8cba-2ee0-4547-ae3a-d4457fc2e812",
   "metadata": {},
   "source": [
    "#### Separate into groups for statistical tests.\n",
    "Split, for both EPD and CAHOOTS, by whether cahoots was at capacity or not."
   ]
  },
  {
   "cell_type": "code",
   "execution_count": 5,
   "id": "7158c6da-6323-4a35-aed6-0c959101e189",
   "metadata": {},
   "outputs": [],
   "source": [
    "epd_full = epd[epd['cahoots_at_capacity'] == True]['secs_to_arrv']\n",
    "epd_avail = epd[epd['cahoots_at_capacity'] == False]['secs_to_arrv']\n",
    "\n",
    "cahoots_full = cahoots[cahoots['capacity'] == True]['secs_to_arrv']\n",
    "cahoots_avail = cahoots[cahoots['capacity'] == False]['secs_to_arrv']"
   ]
  },
  {
   "cell_type": "markdown",
   "id": "2d651759-424e-43df-9543-3ae4f7276161",
   "metadata": {},
   "source": [
    "#### Create results DataFrame to store statistics and p-values from tests"
   ]
  },
  {
   "cell_type": "code",
   "execution_count": 6,
   "id": "15eda37f-4cee-4b41-8992-96e816585247",
   "metadata": {},
   "outputs": [],
   "source": [
    "results = pd.DataFrame(columns=['test', 'statistic', 'p_value'])"
   ]
  },
  {
   "cell_type": "markdown",
   "id": "f462c65b-213f-4174-a194-174b3430d037",
   "metadata": {},
   "source": [
    "## Test #1: LEVENES\n",
    "\n",
    "Use: conduct before t-test to decide whether to assume equal variances.\n",
    "\n",
    "#### Hypotheses:\n",
    "- p > 0.05 → variances are similar → use regular t-test\n",
    "- p < 0.05 → variances differ → use Welch’s t-test (equal_var=False)\n",
    "\n",
    "**input**: the continuous response variable (`secs_to_arrv`), based on whether the agency is at full or capacity or has availability (separate tests for CAHOOTS and EPD)\n",
    "\n",
    "**ouput**: W-stat and p-value"
   ]
  },
  {
   "cell_type": "code",
   "execution_count": 7,
   "id": "053a5f8a-8fc6-4edf-8982-d609755ec715",
   "metadata": {},
   "outputs": [
    {
     "name": "stdout",
     "output_type": "stream",
     "text": [
      "w-stat = 64.89748484929517\n",
      "p = 7.911206806070243e-16\n"
     ]
    }
   ],
   "source": [
    "from scipy.stats import levene\n",
    "stat, p_val = levene(epd_full, epd_avail)\n",
    "\n",
    "results.loc[len(results)] = np.array(['levenes_epd', stat, p_val])\n",
    "\n",
    "print(f'w-stat = {stat}')\n",
    "print(f'p = {p_val}')"
   ]
  },
  {
   "cell_type": "markdown",
   "id": "840eaed4-713e-4cab-b60f-a5a56066e871",
   "metadata": {},
   "source": [
    "__CONCLUSION: EPD variances *differ* (p = 1.7 * 10^(-10) < 0.05)__"
   ]
  },
  {
   "cell_type": "code",
   "execution_count": 8,
   "id": "fcd099bd-0c90-4dc4-b784-4ac7f4685945",
   "metadata": {},
   "outputs": [
    {
     "name": "stdout",
     "output_type": "stream",
     "text": [
      "w-stat = 15.222614715763982\n",
      "p = 9.560222613625285e-05\n"
     ]
    }
   ],
   "source": [
    "stat, p_val = levene(cahoots_full, cahoots_avail)\n",
    "\n",
    "results.loc[len(results)] = np.array(['levenes_cahoots', stat, p_val])\n",
    "\n",
    "print(f'w-stat = {stat}')\n",
    "print(f'p = {p_val}')"
   ]
  },
  {
   "cell_type": "markdown",
   "id": "8dfacf20-6d4f-43af-8831-ebf8e7d49ccf",
   "metadata": {},
   "source": [
    "__CONCLUSION: CAHOOTS variances *differ* (p = 9.6 * 10^(-5) < 0.05)__"
   ]
  },
  {
   "cell_type": "markdown",
   "id": "cca31ee4-6673-4050-8a4d-9616dd5800ca",
   "metadata": {},
   "source": [
    "## Test #2: T TEST\n",
    "Use: to determine if there is a significant difference between the means of two groups.\n",
    "\n",
    "#### Hypotheses:\n",
    "- H₀: The mean arrival time is the same whether CAHOOTS is at capacity or not.\n",
    "- H₁: The mean arrival time is different depending on whether CAHOOTS is at capacity.\n",
    "\n",
    "**input**: the continuous response variable (`secs_to_arrv`), based on whether the agency is at full or capacity or has availability (separate tests for CAHOOTS and EPD)\n",
    "\n",
    "**ouput**: T-stat and p-value"
   ]
  },
  {
   "cell_type": "code",
   "execution_count": 9,
   "id": "12fa929c-274b-46d7-a5ae-7b3bfe289850",
   "metadata": {},
   "outputs": [
    {
     "name": "stdout",
     "output_type": "stream",
     "text": [
      "t-stat = 8.142643272656006\n",
      "p-value = 3.901713472466092e-16\n"
     ]
    }
   ],
   "source": [
    "from scipy.stats import ttest_ind\n",
    "combined = np.concatenate([epd_full, epd_avail])\n",
    "mean_comb = combined.mean()\n",
    "std_comb = combined.std()\n",
    "\n",
    "epd_full_norm = (epd_full - mean_comb) / std_comb\n",
    "epd_avail_norm = (epd_avail - mean_comb) / std_comb\n",
    "\n",
    "t_stat, p_value = ttest_ind(epd_full_norm, epd_avail_norm, equal_var=False)\n",
    "\n",
    "results.loc[len(results)] = np.array(['t_test_epd', t_stat, p_value])\n",
    "\n",
    "print(\"t-stat =\", t_stat)\n",
    "print(\"p-value =\", p_value)"
   ]
  },
  {
   "cell_type": "markdown",
   "id": "c5494f31-c000-4cf2-b8f1-d76574840d7a",
   "metadata": {},
   "source": [
    "__CONCLUSION: mean EPD arrival time is *different* (p = 1.3 * 10^(-14) < 0.05)__"
   ]
  },
  {
   "cell_type": "code",
   "execution_count": 10,
   "id": "edda902d-9abe-40b9-8c13-c6abe85d3392",
   "metadata": {},
   "outputs": [
    {
     "name": "stdout",
     "output_type": "stream",
     "text": [
      "t-stat = 8.765162279529058\n",
      "p-value = 1.9283186741696096e-18\n"
     ]
    }
   ],
   "source": [
    "combined = np.concatenate([cahoots_full, cahoots_avail])\n",
    "mean_comb = combined.mean()\n",
    "std_comb = combined.std()\n",
    "\n",
    "cahoots_full_norm = (cahoots_full - mean_comb) / std_comb\n",
    "cahoots_avail_norm = (cahoots_avail - mean_comb) / std_comb\n",
    "\n",
    "t_stat, p_value = ttest_ind(cahoots_full_norm, cahoots_avail_norm, equal_var=False)\n",
    "\n",
    "results.loc[len(results)] = np.array(['t_test_cahoots', t_stat, p_value])\n",
    "\n",
    "print(\"t-stat =\", t_stat)\n",
    "print(\"p-value =\", p_value)"
   ]
  },
  {
   "cell_type": "markdown",
   "id": "16f7266a-e899-4b25-9654-c96784463e57",
   "metadata": {},
   "source": [
    "__CONCLUSION: mean CAHOOTS arrival time is *different* (p = 1.9 * 10^(-18) < 0.05)__"
   ]
  },
  {
   "cell_type": "markdown",
   "id": "07d54722-435e-42d5-a22e-21b92b0e774f",
   "metadata": {},
   "source": [
    "## Test #3: KS TEST\n",
    "\n",
    "Use: to determine if two distributions differ significantly.\n",
    "\n",
    "#### Hypotheses:\n",
    "- H₀: The two samples come from the same continuous distribution (this means the shape, center, spread — everything about the distributions — is statistically indistinguishable)\n",
    "- H₁: The two samples come from different distributions (this means there’s some difference in the distribution — could be the mean, variance, skew, tails, etc.)\n",
    "\n",
    "**input**: the continuous response variable (`secs_to_arrv`), based on whether the agency is at full or capacity or has availability (separate tests for CAHOOTS and EPD)\n",
    "\n",
    "**ouput**: D-stat and p-value"
   ]
  },
  {
   "cell_type": "code",
   "execution_count": 11,
   "id": "f3bcffe1-5a14-491f-896e-2c2735adbfac",
   "metadata": {},
   "outputs": [
    {
     "name": "stdout",
     "output_type": "stream",
     "text": [
      "d-stat = 0.012188652919826626\n",
      "p = 1.500487438230642e-08\n"
     ]
    }
   ],
   "source": [
    "from scipy.stats import ks_2samp\n",
    "stat, pvalue = ks_2samp(epd_full, epd_avail)\n",
    "\n",
    "results.loc[len(results)] = np.array(['ks_epd', stat, pvalue])\n",
    "\n",
    "print(f'd-stat = {stat}')\n",
    "print(f'p = {pvalue}')"
   ]
  },
  {
   "cell_type": "markdown",
   "id": "4b8c73f1-5738-441c-b0b2-c5ff38186bca",
   "metadata": {},
   "source": [
    "__CONCLUSION: distribution of EPD arrival times do *differ* based on capacity (p = 7.8 * 10^(-83) < 0.05)__"
   ]
  },
  {
   "cell_type": "code",
   "execution_count": 12,
   "id": "813ff435-c02b-4392-b08d-8aaa46475c92",
   "metadata": {},
   "outputs": [
    {
     "name": "stdout",
     "output_type": "stream",
     "text": [
      "d-stat = 0.07094138091975888\n",
      "p = 1.415682401495223e-97\n"
     ]
    }
   ],
   "source": [
    "stat, pvalue = ks_2samp(cahoots_full, cahoots_avail)\n",
    "\n",
    "results.loc[len(results)] = np.array(['ks_cahoots', stat, pvalue])\n",
    "\n",
    "print(f'd-stat = {stat}')\n",
    "print(f'p = {pvalue}')"
   ]
  },
  {
   "cell_type": "markdown",
   "id": "5296d83e-ef7f-49e9-abca-8ebd638a9f25",
   "metadata": {},
   "source": [
    "__CONCLUSION: distribution of CAHOOTS arrival times do *differ* based on capacity (p = 1.4 * 10^(-97) < 0.05)__"
   ]
  },
  {
   "cell_type": "markdown",
   "id": "7ef63159-858d-4a3a-8bb5-08c00e769f7e",
   "metadata": {},
   "source": [
    "#### Quick look at the results"
   ]
  },
  {
   "cell_type": "code",
   "execution_count": 13,
   "id": "b75f178f-05bf-4e23-92ed-67d4ea9446eb",
   "metadata": {},
   "outputs": [
    {
     "data": {
      "text/html": [
       "<div>\n",
       "<style scoped>\n",
       "    .dataframe tbody tr th:only-of-type {\n",
       "        vertical-align: middle;\n",
       "    }\n",
       "\n",
       "    .dataframe tbody tr th {\n",
       "        vertical-align: top;\n",
       "    }\n",
       "\n",
       "    .dataframe thead th {\n",
       "        text-align: right;\n",
       "    }\n",
       "</style>\n",
       "<table border=\"1\" class=\"dataframe\">\n",
       "  <thead>\n",
       "    <tr style=\"text-align: right;\">\n",
       "      <th></th>\n",
       "      <th>test</th>\n",
       "      <th>statistic</th>\n",
       "      <th>p_value</th>\n",
       "    </tr>\n",
       "  </thead>\n",
       "  <tbody>\n",
       "    <tr>\n",
       "      <th>0</th>\n",
       "      <td>levenes_epd</td>\n",
       "      <td>64.89748484929517</td>\n",
       "      <td>7.911206806070243e-16</td>\n",
       "    </tr>\n",
       "    <tr>\n",
       "      <th>1</th>\n",
       "      <td>levenes_cahoots</td>\n",
       "      <td>15.222614715763982</td>\n",
       "      <td>9.560222613625285e-05</td>\n",
       "    </tr>\n",
       "    <tr>\n",
       "      <th>2</th>\n",
       "      <td>t_test_epd</td>\n",
       "      <td>8.142643272656006</td>\n",
       "      <td>3.901713472466092e-16</td>\n",
       "    </tr>\n",
       "    <tr>\n",
       "      <th>3</th>\n",
       "      <td>t_test_cahoots</td>\n",
       "      <td>8.765162279529058</td>\n",
       "      <td>1.9283186741696096e-18</td>\n",
       "    </tr>\n",
       "    <tr>\n",
       "      <th>4</th>\n",
       "      <td>ks_epd</td>\n",
       "      <td>0.012188652919826626</td>\n",
       "      <td>1.500487438230642e-08</td>\n",
       "    </tr>\n",
       "    <tr>\n",
       "      <th>5</th>\n",
       "      <td>ks_cahoots</td>\n",
       "      <td>0.07094138091975888</td>\n",
       "      <td>1.415682401495223e-97</td>\n",
       "    </tr>\n",
       "  </tbody>\n",
       "</table>\n",
       "</div>"
      ],
      "text/plain": [
       "              test             statistic                 p_value\n",
       "0      levenes_epd     64.89748484929517   7.911206806070243e-16\n",
       "1  levenes_cahoots    15.222614715763982   9.560222613625285e-05\n",
       "2       t_test_epd     8.142643272656006   3.901713472466092e-16\n",
       "3   t_test_cahoots     8.765162279529058  1.9283186741696096e-18\n",
       "4           ks_epd  0.012188652919826626   1.500487438230642e-08\n",
       "5       ks_cahoots   0.07094138091975888   1.415682401495223e-97"
      ]
     },
     "execution_count": 13,
     "metadata": {},
     "output_type": "execute_result"
    }
   ],
   "source": [
    "results"
   ]
  },
  {
   "cell_type": "markdown",
   "id": "497b9b27-3f0c-40a6-9cfa-f11a1cfc0852",
   "metadata": {},
   "source": [
    "### Quick Visualizations\n",
    "just to help aid interpretations and guide the final plots"
   ]
  },
  {
   "cell_type": "code",
   "execution_count": 14,
   "id": "700b2fca-0687-4ec2-a55d-37e8803fd808",
   "metadata": {},
   "outputs": [
    {
     "data": {
      "image/png": "[encoded data removed]",
      "text/plain": [
       "<Figure size 640x480 with 1 Axes>"
      ]
     },
     "metadata": {},
     "output_type": "display_data"
    }
   ],
   "source": [
    "plt.hist(cahoots_avail, bins=2000, label='CAHOOTS w/ vans avail.')\n",
    "plt.hist(cahoots_full, bins=2000, label='CAHOOTS w/ no vans avail.')\n",
    "plt.xlim(0, 8640)\n",
    "plt.legend()\n",
    "plt.title('CAHOOTS secs from call to arrv')\n",
    "plt.show()"
   ]
  },
  {
   "cell_type": "code",
   "execution_count": 15,
   "id": "65808c61-ecbd-4d3a-93e6-bf60e9753661",
   "metadata": {},
   "outputs": [
    {
     "data": {
      "image/png": "[encoded data removed]",
      "text/plain": [
       "<Figure size 640x480 with 1 Axes>"
      ]
     },
     "metadata": {},
     "output_type": "display_data"
    }
   ],
   "source": [
    "plt.hist(epd_full, bins=2000, label='CAHOOTS w/ no vans avail.')\n",
    "plt.hist(epd_avail, bins=2000, label='CAHOOTS w/ vans avail.')\n",
    "plt.xlim(0, 8640)\n",
    "plt.legend()\n",
    "plt.title('EPD secs from call to arrv')\n",
    "plt.show()"
   ]
  },
  {
   "cell_type": "markdown",
   "id": "9b837a5a-56d3-4733-9c8d-263b1c3ee2e7",
   "metadata": {},
   "source": [
    "### Rough interpretations/ideas based on visualizations & results\n",
    "results may be impacted because...\n",
    "- the majority of their data may be while CAHOOTS *doesn't* have vans available\n",
    "- they take higher call volume then cahoots\n",
    "- they're more available then cahoots (i.e. more service hours, more vans, more etc.)\n",
    "- if cahoots is at capacity, EPD has so many units that they may have 10 units all on calls at the *same* time\n",
    "- cahoots not getting calls if theyre full (i.e. passing them on to EPD)\n",
    "\n",
    "expanding on the last idea...\n",
    "- when CAHOOTS is full, only the most urgent calls get through\n",
    "- if CAHOOTS is at capacity, only higher-priority, more urgent calls are dispatched immediately once a unit becomes free\n",
    "- this can lead to faster response times for those rare “squeezed in” calls\n",
    "- when CAHOOTS is not full, they may handle a broader range of lower-priority calls, some of which take longer to get to"
   ]
  },
  {
   "cell_type": "markdown",
   "id": "c17a149f-f347-4fbb-a22e-acfedbe72e64",
   "metadata": {},
   "source": [
    "#### Another quick look, this time at percentiles and means"
   ]
  },
  {
   "cell_type": "code",
   "execution_count": 16,
   "id": "af23a326-894b-4702-80b1-ea6a4cf87893",
   "metadata": {},
   "outputs": [
    {
     "name": "stdout",
     "output_type": "stream",
     "text": [
      "cahoots_full 90th percentile: 15197.5\n",
      "cahoots_avail 90th percentile: 14515.0\n"
     ]
    }
   ],
   "source": [
    "print(f'cahoots_full 90th percentile: {np.percentile(cahoots_full, 90)}')\n",
    "print(f'cahoots_avail 90th percentile: {np.percentile(cahoots_avail, 90)}')"
   ]
  },
  {
   "cell_type": "code",
   "execution_count": 17,
   "id": "1a26c157-3981-4e7b-ac25-6bc26317754e",
   "metadata": {},
   "outputs": [
    {
     "name": "stdout",
     "output_type": "stream",
     "text": [
      "epd_full 90th percentile: 9285.5\n",
      "epd_avail 90th percentile: 8434.800000000017\n"
     ]
    }
   ],
   "source": [
    "print(f'epd_full 90th percentile: {np.percentile(epd_full, 90)}')\n",
    "print(f'epd_avail 90th percentile: {np.percentile(epd_avail, 90)}')"
   ]
  },
  {
   "cell_type": "code",
   "execution_count": 18,
   "id": "e53a5ada-13f1-4e52-93c7-d97efa8c98c2",
   "metadata": {},
   "outputs": [
    {
     "name": "stdout",
     "output_type": "stream",
     "text": [
      "cahoots_full mean: 6373.30267628094\n",
      "cahoots_avail mean: 5859.846222563858\n"
     ]
    }
   ],
   "source": [
    "print(f'cahoots_full mean: {np.mean(cahoots_full)}')\n",
    "print(f'cahoots_avail mean: {np.mean(cahoots_avail)}')"
   ]
  },
  {
   "cell_type": "code",
   "execution_count": 19,
   "id": "54a7b08f-df3c-470c-87b4-58db5f3c4b80",
   "metadata": {},
   "outputs": [
    {
     "name": "stdout",
     "output_type": "stream",
     "text": [
      "epd_full mean: 3777.310066650916\n",
      "epd_avail mean: 3515.713593722042\n"
     ]
    }
   ],
   "source": [
    "print(f'epd_full mean: {np.mean(epd_full)}')\n",
    "print(f'epd_avail mean: {np.mean(epd_avail)}')"
   ]
  },
  {
   "cell_type": "markdown",
   "id": "9538dcc5-e6b2-40f5-9693-85ed9d734792",
   "metadata": {},
   "source": [
    "### Save `results` DataFrame as a .csv file"
   ]
  },
  {
   "cell_type": "code",
   "execution_count": 20,
   "id": "27aea6d8-86a4-4557-a644-8cc36c43bdcc",
   "metadata": {},
   "outputs": [],
   "source": [
    "results.to_csv('../results/results_capacity.csv')"
   ]
  }
 ],
 "metadata": {
  "kernelspec": {
   "display_name": "Python [conda env:base] *",
   "language": "python",
   "name": "conda-base-py"
  },
  "language_info": {
   "codemirror_mode": {
    "name": "ipython",
    "version": 3
   },
   "file_extension": ".py",
   "mimetype": "text/x-python",
   "name": "python",
   "nbconvert_exporter": "python",
   "pygments_lexer": "ipython3",
   "version": "3.12.7"
  }
 },
 "nbformat": 4,
 "nbformat_minor": 5
}
