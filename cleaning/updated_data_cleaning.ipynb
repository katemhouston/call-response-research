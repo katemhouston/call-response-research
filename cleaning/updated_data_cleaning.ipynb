{
 "cells": [
  {
   "cell_type": "code",
   "execution_count": 1,
   "id": "b628961d-481d-4851-bc7e-b60f0542b414",
   "metadata": {},
   "outputs": [],
   "source": [
    "import pandas as pd\n",
    "import numpy as np\n",
    "import datetime\n",
    "import re\n",
    "import matplotlib.pyplot as plt\n",
    "import seaborn as sns"
   ]
  },
  {
   "cell_type": "markdown",
   "id": "a2670155-af78-4498-a6f2-f2e6e3bca9b7",
   "metadata": {},
   "source": [
    "# Data Cleaning\n",
    "\n",
    "Source data: Computer-Aided Dispatch data from EPD dispatch between January 1, 2014 and April 18, 2025.\n",
    "\n",
    "### Steps for cleaning\n",
    "\n",
    "1. Studying the format, entries, and each variable’s data type, inconsistencies, and formatting errors.\n",
    "2. Recoding the dataset by: (1) stripping all columns with string values, (2) using the datetime package to convert the calltime variable to datetime objects, and (3) creating a new variable, agency, using boolean logic that indicates whether CAHOOTS or EPD responds to a call.\n",
    "3. Conducting visual and statistical analysis of the dataset to make sure I understand variable distributions, as well as to find outliers and missing values.\n",
    "4. Fixing identified outliers by: (1) determining if each outlier is a true outlier or an error in date entry, (2) removing/correcting outliers when appropriate, and (3) re-plotting distributions and/or computing updated summary statistics.\n",
    "5. Doing a final check for consistency in the dataframe by: (1) checking that each variable is of the correct data type, (2) making sure missing values are intentional or properly handled, (3) using .describe to make sure that numerical variables are within the expected ranges, and (4) checking for consistent categorical and date/time values."
   ]
  },
  {
   "cell_type": "markdown",
   "id": "3b1e8aac-9748-4c34-8a2c-bb5445e6bb6b",
   "metadata": {},
   "source": [
    "### Import CAD data from 2014-2025\n",
    "Import each years .csv file into a separate, corresponding DataFrame. Concatenate each individual DataFrame into the master DataFrame: `cad`."
   ]
  },
  {
   "cell_type": "code",
   "execution_count": 2,
   "id": "bd5d38f3-316d-40c6-b2df-4ec527988740",
   "metadata": {},
   "outputs": [],
   "source": [
    "cad14 = pd.read_csv(\"../data/class_data_2014.csv\", dtype={4: str, 16: str, 18: str})\n",
    "cad15 = pd.read_csv(\"../data/class_data_2015.csv\", dtype={4: str, 16: str, 18: str})\n",
    "cad16 = pd.read_csv(\"../data/class_data_2016.csv\", dtype={4: str, 16: str, 18: str})\n",
    "cad17 = pd.read_csv(\"../data/class_data_2017.csv\", dtype={4: str, 16: str, 18: str})\n",
    "cad18 = pd.read_csv(\"../data/class_data_2018.csv\", dtype={4: str, 16: str, 18: str})\n",
    "cad19 = pd.read_csv(\"../data/class_data_2019.csv\", dtype={4: str, 16: str, 18: str})\n",
    "cad20 = pd.read_csv(\"../data/class_data_2020.csv\", dtype={4: str, 16: str, 18: str})\n",
    "cad21 = pd.read_csv(\"../data/class_data_2021.csv\", dtype={4: str, 16: str, 18: str})\n",
    "cad22 = pd.read_csv(\"../data/class_data_2022.csv\", dtype={4: str, 16: str, 18: str})\n",
    "cad23 = pd.read_csv(\"../data/class_data_2023.csv\", dtype={4: str, 16: str, 18: str})\n",
    "cad24 = pd.read_csv(\"../data/class_data_2024.csv\", dtype={4: str, 16: str, 18: str})\n",
    "cad25 = pd.read_csv(\"../data/class_data_2025.csv\", dtype={4: str, 16: str, 18: str})\n",
    "\n",
    "cad = pd.concat([cad14, cad15, cad16, cad17, cad18, cad19, cad20, cad21, cad22, cad23, cad24, cad25], ignore_index=True)"
   ]
  },
  {
   "cell_type": "markdown",
   "id": "5caaff50-f110-4d83-887f-8b32a1001689",
   "metadata": {},
   "source": [
    "#### Begin data cleaning steps by creating `clean`, a copy of the original DataFrame."
   ]
  },
  {
   "cell_type": "code",
   "execution_count": 3,
   "id": "28a5589f-0700-4a80-a068-596a93a5bb37",
   "metadata": {},
   "outputs": [],
   "source": [
    "clean = cad.copy()"
   ]
  },
  {
   "cell_type": "markdown",
   "id": "ab68920c-a021-496c-8e68-ce26985604fa",
   "metadata": {},
   "source": [
    "### Recoding"
   ]
  },
  {
   "cell_type": "markdown",
   "id": "45c2602c-48e0-4851-b037-018f906cd6cb",
   "metadata": {},
   "source": [
    "#### Strip str variables of extra spaces/blanks."
   ]
  },
  {
   "cell_type": "code",
   "execution_count": 4,
   "id": "dd32c156-1e08-4f87-b244-cc612e1c6693",
   "metadata": {},
   "outputs": [],
   "source": [
    "clean.loc[:, 'closecode'] = clean['closecode'].str.strip()\n",
    "clean.loc[:, 'service'] = clean['service'].str.strip()\n",
    "clean.loc[:, 'callsource'] = clean['callsource'].str.strip()\n",
    "clean.loc[:, 'nature'] = clean['nature'].str.strip()\n",
    "clean.loc[:, 'closed_as'] = clean['closed_as'].str.strip()\n",
    "clean.loc[:, 'beat'] = clean['beat'].str.strip()\n",
    "clean.loc[:, 'primeunit'] = clean['primeunit'].str.strip()\n",
    "clean.loc[:, 'priority'] = clean['priority'].str.strip()\n",
    "clean.loc[:, 'zip'] = clean['zip'].str.strip()"
   ]
  },
  {
   "cell_type": "markdown",
   "id": "0cc8bdc6-c731-4b7f-9613-fd34971be94c",
   "metadata": {},
   "source": [
    "#### Convert numbered variables to `int` values."
   ]
  },
  {
   "cell_type": "code",
   "execution_count": 5,
   "id": "927dd380-653d-4b89-8a12-72f0154ea305",
   "metadata": {},
   "outputs": [],
   "source": [
    "clean.loc[:, 'inci_id'] = clean['inci_id'].astype(int)\n",
    "clean.loc[:, 'units_dispd'] = clean['units_dispd'].astype(int)\n",
    "clean.loc[:, 'units_arrived'] = clean['units_arrived'].astype(int)"
   ]
  },
  {
   "cell_type": "markdown",
   "id": "4c28bd00-90d5-4ce9-a3c4-ab8254750bf4",
   "metadata": {},
   "source": [
    "#### Convert time-based variables to datetime objects."
   ]
  },
  {
   "cell_type": "code",
   "execution_count": 6,
   "id": "fcd05a94-68c3-4de5-ac48-95e8bd3cce25",
   "metadata": {},
   "outputs": [],
   "source": [
    "clean.loc[:, 'calltime'] = pd.to_datetime(clean['calltime'], format=\"%Y-%m-%d %H:%M:%S.%f\")"
   ]
  },
  {
   "cell_type": "markdown",
   "id": "3ab98c9a-c020-4be1-b7c0-939d23aad8dc",
   "metadata": {},
   "source": [
    "#### Create agency column using `primeunit`. If `primeunit` matches one of the CAHOOTS units, then agency is assigned to `CAHOOTS`, otherwise it is `EPD`."
   ]
  },
  {
   "cell_type": "code",
   "execution_count": 7,
   "id": "5268355c-c1b9-4d4c-b254-6309e772f25b",
   "metadata": {},
   "outputs": [],
   "source": [
    "cahoots_pattern = r\"1J77\\s*|3J79\\s*|3J78\\s*|3J77\\s*|4J79\\s*|3J81\\s*|3J76\\s*|2J28\\s*|2J29\\s*|CAHOOT\\s*|CAHOT\\s*|CAHO\\s*\"\n",
    "\n",
    "def in_cahoots(unit):\n",
    "    if pd.isna(unit):\n",
    "        return np.nan\n",
    "    unit = str(unit)\n",
    "    if re.fullmatch(cahoots_pattern, unit):\n",
    "        return \"CAHOOTS\"\n",
    "    else:\n",
    "        return \"EPD\"\n",
    "\n",
    "clean.loc[:, 'agency'] = clean['primeunit'].apply(in_cahoots)"
   ]
  },
  {
   "cell_type": "markdown",
   "id": "4a00c900-a22b-4798-b32f-e74b21ae8bf0",
   "metadata": {},
   "source": [
    "#### Time-based variables in minutes and hours to allow for easier analyses later on."
   ]
  },
  {
   "cell_type": "code",
   "execution_count": 8,
   "id": "e722a79b-8e02-472d-a16d-1d0b52c4834a",
   "metadata": {},
   "outputs": [],
   "source": [
    "clean.loc[:, 'secs_disp_to_arrv'] = (clean['secs_to_arrv'] - clean['secs_to_disp'])\n",
    "clean.loc[:, 'mins_disp_to_arrv'] = clean['secs_disp_to_arrv']/60\n",
    "clean.loc[:, 'hrs_disp_to_arrv'] = clean['secs_disp_to_arrv']/60/60\n",
    "\n",
    "clean.loc[:, 'hours_to_disp'] = clean['secs_to_disp']/60/60\n",
    "clean.loc[:, 'hours_to_arrv'] = clean['secs_to_arrv']/60/60"
   ]
  },
  {
   "cell_type": "markdown",
   "id": "4f671feb-3619-4b0c-99ce-0922b93fe6cf",
   "metadata": {},
   "source": [
    "### Fix outliers & missing values"
   ]
  },
  {
   "cell_type": "markdown",
   "id": "722bc1b6-9436-48a3-ab56-4ebb7b5fe507",
   "metadata": {},
   "source": [
    "#### Remove missing `secs_to_arrv`, `secs_to_disp`, `secs_to_close`, and `agency`. Only subset calls where 1+ units arrive."
   ]
  },
  {
   "cell_type": "code",
   "execution_count": 9,
   "id": "e2036f37-8028-4fa9-adc7-a6948ec653c4",
   "metadata": {},
   "outputs": [],
   "source": [
    "clean_subset = clean[~clean['secs_to_arrv'].isnull()]\n",
    "clean_subset = clean_subset[~clean_subset['secs_to_disp'].isnull()]\n",
    "clean_subset = clean_subset[~clean_subset['secs_to_close'].isnull()]\n",
    "clean_subset = clean_subset[~clean_subset['agency'].isnull()]\n",
    "clean_subset = clean_subset[clean_subset['units_arrived'] > 0]"
   ]
  },
  {
   "cell_type": "markdown",
   "id": "afc9abd2-d181-47db-94ad-9af0d038b194",
   "metadata": {},
   "source": [
    "#### Remove duplicate row(s)."
   ]
  },
  {
   "cell_type": "code",
   "execution_count": 10,
   "id": "e9f39a7b-ede5-42b5-9c25-323ac4a8f0f2",
   "metadata": {},
   "outputs": [],
   "source": [
    "idx_drop = clean_subset[clean_subset.duplicated(subset=['inci_id'])].index\n",
    "\n",
    "clean_subset = clean_subset.drop(idx_drop, axis=0)"
   ]
  },
  {
   "cell_type": "markdown",
   "id": "79795f66-e494-40ff-be6f-8f7c668c5d79",
   "metadata": {},
   "source": [
    "#### Correct zipcode and replace empty values with `NA`."
   ]
  },
  {
   "cell_type": "code",
   "execution_count": 11,
   "id": "f0d89068-2043-419e-b193-800ea45c58c4",
   "metadata": {},
   "outputs": [],
   "source": [
    "clean_subset.loc[clean_subset['zip'] == '94701', 'zip'] = '97401'\n",
    "clean_subset.loc[clean_subset['zip'] == '', 'zip'] = pd.NA"
   ]
  },
  {
   "cell_type": "markdown",
   "id": "2b78b83c-bafd-4026-8f3d-eade9a2a9f67",
   "metadata": {},
   "source": [
    "#### Replace empty closecodes with `NA`."
   ]
  },
  {
   "cell_type": "code",
   "execution_count": 12,
   "id": "665e5dce-4761-46a7-86e9-319080991f14",
   "metadata": {},
   "outputs": [],
   "source": [
    "clean_subset.loc[clean_subset['closecode'] == '', 'closecode'] = pd.NA"
   ]
  },
  {
   "cell_type": "markdown",
   "id": "4c54e31b-9823-478e-b6f7-f589f414e056",
   "metadata": {},
   "source": [
    "#### Subset to only positive `secs_to_arrv` and `secs_to_disp`."
   ]
  },
  {
   "cell_type": "code",
   "execution_count": 13,
   "id": "e3bd6f22-5f60-4ebe-94f7-f0e22c6fd5eb",
   "metadata": {},
   "outputs": [],
   "source": [
    "clean_subset = clean_subset[clean_subset['secs_to_arrv'] >= 0]\n",
    "clean_subset = clean_subset[clean_subset['secs_to_disp'] >= 0]"
   ]
  },
  {
   "cell_type": "markdown",
   "id": "27db191b-0d1f-4b71-8d05-eb63cb785ad0",
   "metadata": {},
   "source": [
    "#### Subset to positive arrival times, and less than 24 hours."
   ]
  },
  {
   "cell_type": "code",
   "execution_count": 14,
   "id": "0b371dca-00d7-4ac3-90d9-52cf51357528",
   "metadata": {},
   "outputs": [],
   "source": [
    "clean_subset = clean_subset[clean_subset['secs_to_disp'] != clean_subset['secs_to_arrv']]\n",
    "clean_subset = clean_subset[clean_subset['secs_to_arrv'] != clean_subset['secs_to_close']]\n",
    "\n",
    "clean_subset = clean_subset[clean_subset['secs_disp_to_arrv'] >= 0]\n",
    "clean_subset = clean_subset[clean_subset['hrs_disp_to_arrv'] <= 24]"
   ]
  },
  {
   "cell_type": "markdown",
   "id": "264e9fef-0eda-437e-9ebd-5a6ab286a564",
   "metadata": {},
   "source": [
    "#### Subset to calls taking place within 2014 and 2024."
   ]
  },
  {
   "cell_type": "code",
   "execution_count": 15,
   "id": "cb44122e-b94f-4939-9f8d-d095237dd90d",
   "metadata": {},
   "outputs": [],
   "source": [
    "clean_subset = clean_subset[clean_subset['yr'] <= 2024]"
   ]
  },
  {
   "cell_type": "markdown",
   "id": "03ec620c-838d-49e1-975a-b6fe14d8f378",
   "metadata": {},
   "source": [
    "### Quick checkpoint to see entries left in cleaned DataFrame"
   ]
  },
  {
   "cell_type": "code",
   "execution_count": 16,
   "id": "a93ea669-9fd1-4eb3-b699-b534b57eeced",
   "metadata": {},
   "outputs": [
    {
     "name": "stdout",
     "output_type": "stream",
     "text": [
      "Percentage of CAD data used: 35.27%\n",
      "Number of entries in cleaned data: 525041\n",
      "Number of entries in raw CAD data: 1488577\n"
     ]
    }
   ],
   "source": [
    "print(f'Percentage of CAD data used: {len(clean_subset)/len(cad)*100:.2f}%')\n",
    "print(f'Number of entries in cleaned data: {len(clean_subset)}')\n",
    "print(f'Number of entries in raw CAD data: {len(cad)}')"
   ]
  },
  {
   "cell_type": "code",
   "execution_count": 17,
   "id": "d21f1504-1a86-4c0d-9d16-15e6db7268c8",
   "metadata": {},
   "outputs": [],
   "source": [
    "complete_clean = clean_subset.reset_index(drop=True).copy()"
   ]
  },
  {
   "cell_type": "code",
   "execution_count": 18,
   "id": "36831bc7-45bd-4ce1-a0be-7ff1df0b2bfe",
   "metadata": {},
   "outputs": [
    {
     "data": {
      "text/html": [
       "<div>\n",
       "<style scoped>\n",
       "    .dataframe tbody tr th:only-of-type {\n",
       "        vertical-align: middle;\n",
       "    }\n",
       "\n",
       "    .dataframe tbody tr th {\n",
       "        vertical-align: top;\n",
       "    }\n",
       "\n",
       "    .dataframe thead th {\n",
       "        text-align: right;\n",
       "    }\n",
       "</style>\n",
       "<table border=\"1\" class=\"dataframe\">\n",
       "  <thead>\n",
       "    <tr style=\"text-align: right;\">\n",
       "      <th></th>\n",
       "      <th>yr</th>\n",
       "      <th>service</th>\n",
       "      <th>inci_id</th>\n",
       "      <th>calltime</th>\n",
       "      <th>case_id</th>\n",
       "      <th>callsource</th>\n",
       "      <th>nature</th>\n",
       "      <th>closecode</th>\n",
       "      <th>closed_as</th>\n",
       "      <th>secs_to_disp</th>\n",
       "      <th>...</th>\n",
       "      <th>zip</th>\n",
       "      <th>primeunit</th>\n",
       "      <th>units_dispd</th>\n",
       "      <th>units_arrived</th>\n",
       "      <th>agency</th>\n",
       "      <th>secs_disp_to_arrv</th>\n",
       "      <th>mins_disp_to_arrv</th>\n",
       "      <th>hrs_disp_to_arrv</th>\n",
       "      <th>hours_to_disp</th>\n",
       "      <th>hours_to_arrv</th>\n",
       "    </tr>\n",
       "  </thead>\n",
       "  <tbody>\n",
       "    <tr>\n",
       "      <th>0</th>\n",
       "      <td>2014</td>\n",
       "      <td>LAW</td>\n",
       "      <td>14000006</td>\n",
       "      <td>2014-01-01 00:05:17</td>\n",
       "      <td>NaN</td>\n",
       "      <td>PHONE</td>\n",
       "      <td>DISPUTE</td>\n",
       "      <td>ADVI</td>\n",
       "      <td>ADVISED</td>\n",
       "      <td>219.0</td>\n",
       "      <td>...</td>\n",
       "      <td>97401</td>\n",
       "      <td>5E93</td>\n",
       "      <td>3</td>\n",
       "      <td>2</td>\n",
       "      <td>EPD</td>\n",
       "      <td>377.0</td>\n",
       "      <td>6.283333</td>\n",
       "      <td>0.104722</td>\n",
       "      <td>0.060833</td>\n",
       "      <td>0.165556</td>\n",
       "    </tr>\n",
       "    <tr>\n",
       "      <th>1</th>\n",
       "      <td>2014</td>\n",
       "      <td>LAW</td>\n",
       "      <td>14000011</td>\n",
       "      <td>2014-01-01 00:10:21</td>\n",
       "      <td>NaN</td>\n",
       "      <td>E911</td>\n",
       "      <td>THEFT</td>\n",
       "      <td>RSLV</td>\n",
       "      <td>RESOLVED</td>\n",
       "      <td>168.0</td>\n",
       "      <td>...</td>\n",
       "      <td>97402</td>\n",
       "      <td>6E45</td>\n",
       "      <td>2</td>\n",
       "      <td>2</td>\n",
       "      <td>EPD</td>\n",
       "      <td>212.0</td>\n",
       "      <td>3.533333</td>\n",
       "      <td>0.058889</td>\n",
       "      <td>0.046667</td>\n",
       "      <td>0.105556</td>\n",
       "    </tr>\n",
       "    <tr>\n",
       "      <th>2</th>\n",
       "      <td>2014</td>\n",
       "      <td>LAW</td>\n",
       "      <td>14000014</td>\n",
       "      <td>2014-01-01 00:12:38</td>\n",
       "      <td>NaN</td>\n",
       "      <td>PHONE</td>\n",
       "      <td>ILLEGAL BURNING</td>\n",
       "      <td>ADVI</td>\n",
       "      <td>ADVISED</td>\n",
       "      <td>1160.0</td>\n",
       "      <td>...</td>\n",
       "      <td>97401</td>\n",
       "      <td>7E98</td>\n",
       "      <td>2</td>\n",
       "      <td>2</td>\n",
       "      <td>EPD</td>\n",
       "      <td>102.0</td>\n",
       "      <td>1.700000</td>\n",
       "      <td>0.028333</td>\n",
       "      <td>0.322222</td>\n",
       "      <td>0.350556</td>\n",
       "    </tr>\n",
       "    <tr>\n",
       "      <th>3</th>\n",
       "      <td>2014</td>\n",
       "      <td>LAW</td>\n",
       "      <td>14000051</td>\n",
       "      <td>2014-01-01 00:51:42</td>\n",
       "      <td>1400006</td>\n",
       "      <td>W911</td>\n",
       "      <td>ASSAULT</td>\n",
       "      <td>REPT</td>\n",
       "      <td>REPORT TAKEN</td>\n",
       "      <td>132.0</td>\n",
       "      <td>...</td>\n",
       "      <td>97402</td>\n",
       "      <td>5U52</td>\n",
       "      <td>2</td>\n",
       "      <td>2</td>\n",
       "      <td>EPD</td>\n",
       "      <td>491.0</td>\n",
       "      <td>8.183333</td>\n",
       "      <td>0.136389</td>\n",
       "      <td>0.036667</td>\n",
       "      <td>0.173056</td>\n",
       "    </tr>\n",
       "    <tr>\n",
       "      <th>4</th>\n",
       "      <td>2014</td>\n",
       "      <td>LAW</td>\n",
       "      <td>14000067</td>\n",
       "      <td>2014-01-01 01:16:15</td>\n",
       "      <td>NaN</td>\n",
       "      <td>PHONE</td>\n",
       "      <td>DISPUTE</td>\n",
       "      <td>ADVI</td>\n",
       "      <td>ADVISED</td>\n",
       "      <td>105.0</td>\n",
       "      <td>...</td>\n",
       "      <td>97402</td>\n",
       "      <td>6E58</td>\n",
       "      <td>2</td>\n",
       "      <td>2</td>\n",
       "      <td>EPD</td>\n",
       "      <td>802.0</td>\n",
       "      <td>13.366667</td>\n",
       "      <td>0.222778</td>\n",
       "      <td>0.029167</td>\n",
       "      <td>0.251944</td>\n",
       "    </tr>\n",
       "    <tr>\n",
       "      <th>...</th>\n",
       "      <td>...</td>\n",
       "      <td>...</td>\n",
       "      <td>...</td>\n",
       "      <td>...</td>\n",
       "      <td>...</td>\n",
       "      <td>...</td>\n",
       "      <td>...</td>\n",
       "      <td>...</td>\n",
       "      <td>...</td>\n",
       "      <td>...</td>\n",
       "      <td>...</td>\n",
       "      <td>...</td>\n",
       "      <td>...</td>\n",
       "      <td>...</td>\n",
       "      <td>...</td>\n",
       "      <td>...</td>\n",
       "      <td>...</td>\n",
       "      <td>...</td>\n",
       "      <td>...</td>\n",
       "      <td>...</td>\n",
       "      <td>...</td>\n",
       "    </tr>\n",
       "    <tr>\n",
       "      <th>525036</th>\n",
       "      <td>2024</td>\n",
       "      <td>LAW</td>\n",
       "      <td>24349438</td>\n",
       "      <td>2024-12-31 23:23:53</td>\n",
       "      <td>NaN</td>\n",
       "      <td>W911</td>\n",
       "      <td>SUBJECT SCREAMING</td>\n",
       "      <td>PCHK</td>\n",
       "      <td>PATROL CHECK</td>\n",
       "      <td>115.0</td>\n",
       "      <td>...</td>\n",
       "      <td>97402</td>\n",
       "      <td>5E52</td>\n",
       "      <td>3</td>\n",
       "      <td>3</td>\n",
       "      <td>EPD</td>\n",
       "      <td>142.0</td>\n",
       "      <td>2.366667</td>\n",
       "      <td>0.039444</td>\n",
       "      <td>0.031944</td>\n",
       "      <td>0.071389</td>\n",
       "    </tr>\n",
       "    <tr>\n",
       "      <th>525037</th>\n",
       "      <td>2024</td>\n",
       "      <td>LAW</td>\n",
       "      <td>24349443</td>\n",
       "      <td>2024-12-31 23:28:56</td>\n",
       "      <td>NaN</td>\n",
       "      <td>W911</td>\n",
       "      <td>UNKNOWN PROBLEM</td>\n",
       "      <td>PCHK</td>\n",
       "      <td>PATROL CHECK</td>\n",
       "      <td>645.0</td>\n",
       "      <td>...</td>\n",
       "      <td>97401</td>\n",
       "      <td>4E42</td>\n",
       "      <td>2</td>\n",
       "      <td>2</td>\n",
       "      <td>EPD</td>\n",
       "      <td>371.0</td>\n",
       "      <td>6.183333</td>\n",
       "      <td>0.103056</td>\n",
       "      <td>0.179167</td>\n",
       "      <td>0.282222</td>\n",
       "    </tr>\n",
       "    <tr>\n",
       "      <th>525038</th>\n",
       "      <td>2024</td>\n",
       "      <td>LAW</td>\n",
       "      <td>24349460</td>\n",
       "      <td>2024-12-31 23:45:33</td>\n",
       "      <td>NaN</td>\n",
       "      <td>PHONE</td>\n",
       "      <td>LOCATION WANTED SUBJECT</td>\n",
       "      <td>FUP</td>\n",
       "      <td>FOLLOW UP INVESTIGATION</td>\n",
       "      <td>7351.0</td>\n",
       "      <td>...</td>\n",
       "      <td>97401</td>\n",
       "      <td>4E14</td>\n",
       "      <td>1</td>\n",
       "      <td>1</td>\n",
       "      <td>EPD</td>\n",
       "      <td>2875.0</td>\n",
       "      <td>47.916667</td>\n",
       "      <td>0.798611</td>\n",
       "      <td>2.041944</td>\n",
       "      <td>2.840556</td>\n",
       "    </tr>\n",
       "    <tr>\n",
       "      <th>525039</th>\n",
       "      <td>2024</td>\n",
       "      <td>LAW</td>\n",
       "      <td>24349461</td>\n",
       "      <td>2024-12-31 23:46:01</td>\n",
       "      <td>NaN</td>\n",
       "      <td>PHONE</td>\n",
       "      <td>DISPUTE</td>\n",
       "      <td>PCHK</td>\n",
       "      <td>PATROL CHECK</td>\n",
       "      <td>356.0</td>\n",
       "      <td>...</td>\n",
       "      <td>97403</td>\n",
       "      <td>6E31</td>\n",
       "      <td>3</td>\n",
       "      <td>2</td>\n",
       "      <td>EPD</td>\n",
       "      <td>815.0</td>\n",
       "      <td>13.583333</td>\n",
       "      <td>0.226389</td>\n",
       "      <td>0.098889</td>\n",
       "      <td>0.325278</td>\n",
       "    </tr>\n",
       "    <tr>\n",
       "      <th>525040</th>\n",
       "      <td>2024</td>\n",
       "      <td>LAW</td>\n",
       "      <td>24349466</td>\n",
       "      <td>2024-12-31 23:50:07</td>\n",
       "      <td>NaN</td>\n",
       "      <td>E911</td>\n",
       "      <td>CHECK WELFARE</td>\n",
       "      <td>ASST</td>\n",
       "      <td>ASSISTED</td>\n",
       "      <td>1021.0</td>\n",
       "      <td>...</td>\n",
       "      <td>97402</td>\n",
       "      <td>4E41</td>\n",
       "      <td>1</td>\n",
       "      <td>1</td>\n",
       "      <td>EPD</td>\n",
       "      <td>399.0</td>\n",
       "      <td>6.650000</td>\n",
       "      <td>0.110833</td>\n",
       "      <td>0.283611</td>\n",
       "      <td>0.394444</td>\n",
       "    </tr>\n",
       "  </tbody>\n",
       "</table>\n",
       "<p>525041 rows × 26 columns</p>\n",
       "</div>"
      ],
      "text/plain": [
       "          yr service   inci_id             calltime  case_id callsource  \\\n",
       "0       2014     LAW  14000006  2014-01-01 00:05:17      NaN      PHONE   \n",
       "1       2014     LAW  14000011  2014-01-01 00:10:21      NaN       E911   \n",
       "2       2014     LAW  14000014  2014-01-01 00:12:38      NaN      PHONE   \n",
       "3       2014     LAW  14000051  2014-01-01 00:51:42  1400006       W911   \n",
       "4       2014     LAW  14000067  2014-01-01 01:16:15      NaN      PHONE   \n",
       "...      ...     ...       ...                  ...      ...        ...   \n",
       "525036  2024     LAW  24349438  2024-12-31 23:23:53      NaN       W911   \n",
       "525037  2024     LAW  24349443  2024-12-31 23:28:56      NaN       W911   \n",
       "525038  2024     LAW  24349460  2024-12-31 23:45:33      NaN      PHONE   \n",
       "525039  2024     LAW  24349461  2024-12-31 23:46:01      NaN      PHONE   \n",
       "525040  2024     LAW  24349466  2024-12-31 23:50:07      NaN       E911   \n",
       "\n",
       "                         nature closecode                closed_as  \\\n",
       "0                       DISPUTE      ADVI                  ADVISED   \n",
       "1                         THEFT      RSLV                 RESOLVED   \n",
       "2               ILLEGAL BURNING      ADVI                  ADVISED   \n",
       "3                       ASSAULT      REPT             REPORT TAKEN   \n",
       "4                       DISPUTE      ADVI                  ADVISED   \n",
       "...                         ...       ...                      ...   \n",
       "525036        SUBJECT SCREAMING      PCHK             PATROL CHECK   \n",
       "525037          UNKNOWN PROBLEM      PCHK             PATROL CHECK   \n",
       "525038  LOCATION WANTED SUBJECT       FUP  FOLLOW UP INVESTIGATION   \n",
       "525039                  DISPUTE      PCHK             PATROL CHECK   \n",
       "525040            CHECK WELFARE      ASST                 ASSISTED   \n",
       "\n",
       "        secs_to_disp  ...    zip  primeunit  units_dispd  units_arrived  \\\n",
       "0              219.0  ...  97401       5E93            3              2   \n",
       "1              168.0  ...  97402       6E45            2              2   \n",
       "2             1160.0  ...  97401       7E98            2              2   \n",
       "3              132.0  ...  97402       5U52            2              2   \n",
       "4              105.0  ...  97402       6E58            2              2   \n",
       "...              ...  ...    ...        ...          ...            ...   \n",
       "525036         115.0  ...  97402       5E52            3              3   \n",
       "525037         645.0  ...  97401       4E42            2              2   \n",
       "525038        7351.0  ...  97401       4E14            1              1   \n",
       "525039         356.0  ...  97403       6E31            3              2   \n",
       "525040        1021.0  ...  97402       4E41            1              1   \n",
       "\n",
       "       agency secs_disp_to_arrv mins_disp_to_arrv hrs_disp_to_arrv  \\\n",
       "0         EPD             377.0          6.283333         0.104722   \n",
       "1         EPD             212.0          3.533333         0.058889   \n",
       "2         EPD             102.0          1.700000         0.028333   \n",
       "3         EPD             491.0          8.183333         0.136389   \n",
       "4         EPD             802.0         13.366667         0.222778   \n",
       "...       ...               ...               ...              ...   \n",
       "525036    EPD             142.0          2.366667         0.039444   \n",
       "525037    EPD             371.0          6.183333         0.103056   \n",
       "525038    EPD            2875.0         47.916667         0.798611   \n",
       "525039    EPD             815.0         13.583333         0.226389   \n",
       "525040    EPD             399.0          6.650000         0.110833   \n",
       "\n",
       "       hours_to_disp  hours_to_arrv  \n",
       "0           0.060833       0.165556  \n",
       "1           0.046667       0.105556  \n",
       "2           0.322222       0.350556  \n",
       "3           0.036667       0.173056  \n",
       "4           0.029167       0.251944  \n",
       "...              ...            ...  \n",
       "525036      0.031944       0.071389  \n",
       "525037      0.179167       0.282222  \n",
       "525038      2.041944       2.840556  \n",
       "525039      0.098889       0.325278  \n",
       "525040      0.283611       0.394444  \n",
       "\n",
       "[525041 rows x 26 columns]"
      ]
     },
     "execution_count": 18,
     "metadata": {},
     "output_type": "execute_result"
    }
   ],
   "source": [
    "complete_clean"
   ]
  },
  {
   "cell_type": "markdown",
   "id": "ecda2546-28ca-44d4-ad92-93290aaef4ff",
   "metadata": {},
   "source": [
    "### Load complete, cleaned DataFrame into csv file named `cleaned_full_class_data.csv`"
   ]
  },
  {
   "cell_type": "code",
   "execution_count": 19,
   "id": "25fd5d43-6882-4271-90cb-f07d60e40329",
   "metadata": {},
   "outputs": [],
   "source": [
    "complete_clean.to_csv('../data/cleaned_full_class_data.csv', index=False)"
   ]
  }
 ],
 "metadata": {
  "kernelspec": {
   "display_name": "Python [conda env:base] *",
   "language": "python",
   "name": "conda-base-py"
  },
  "language_info": {
   "codemirror_mode": {
    "name": "ipython",
    "version": 3
   },
   "file_extension": ".py",
   "mimetype": "text/x-python",
   "name": "python",
   "nbconvert_exporter": "python",
   "pygments_lexer": "ipython3",
   "version": "3.12.7"
  }
 },
 "nbformat": 4,
 "nbformat_minor": 5
}
